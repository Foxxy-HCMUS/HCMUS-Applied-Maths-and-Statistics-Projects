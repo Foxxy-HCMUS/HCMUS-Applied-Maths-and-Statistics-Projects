{
 "cells": [
  {
   "cell_type": "markdown",
   "metadata": {},
   "source": [
    "Kernel: We need to use the Python 3.9.7 from the Anaconda distribution."
   ]
  },
  {
   "cell_type": "markdown",
   "metadata": {},
   "source": [
    "#  **1. Import libraries**"
   ]
  },
  {
   "cell_type": "markdown",
   "metadata": {},
   "source": [
    "First, we need to import some libraries for data processing."
   ]
  },
  {
   "cell_type": "code",
   "execution_count": 293,
   "metadata": {},
   "outputs": [],
   "source": [
    "import pandas as pd\n",
    "import numpy as np\n",
    "import matplotlib.pyplot as plt\n",
    "plt.rcParams[\"figure.figsize\"] = (20,7) # Long plot"
   ]
  },
  {
   "cell_type": "markdown",
   "metadata": {},
   "source": [
    "* `pandas:` offers data structures and operations to manipulate numerical tables and time series.\n",
    "* `numpy:` offers a giant collection of high-level mathematical functions to operate on arrays and matrices.\n",
    "* `matplotlib:` offers an interactive visualization lile plotting graphs."
   ]
  },
  {
   "cell_type": "markdown",
   "metadata": {},
   "source": [
    "# **2. Data Collection**"
   ]
  },
  {
   "cell_type": "markdown",
   "metadata": {},
   "source": [
    "## ***2.1 Get raw data***"
   ]
  },
  {
   "cell_type": "markdown",
   "metadata": {},
   "source": [
    "Our data is stored in a CSV files."
   ]
  },
  {
   "cell_type": "code",
   "execution_count": 294,
   "metadata": {},
   "outputs": [
    {
     "name": "stdout",
     "output_type": "stream",
     "text": [
      "[        STATION  DATE  LATITUDE  LONGITUDE  ELEVATION                NAME  \\\n",
      "0   FIE00144982  1970   63.3206    30.0492       98.0  LIEKSA LAMPELA, FI   \n",
      "1   FIE00144982  1971   63.3206    30.0492       98.0  LIEKSA LAMPELA, FI   \n",
      "2   FIE00144982  1972   63.3206    30.0492       98.0  LIEKSA LAMPELA, FI   \n",
      "3   FIE00144982  1973   63.3206    30.0492       98.0  LIEKSA LAMPELA, FI   \n",
      "4   FIE00144982  1974   63.3206    30.0492       98.0  LIEKSA LAMPELA, FI   \n",
      "5   FIE00144982  1975   63.3206    30.0492       98.0  LIEKSA LAMPELA, FI   \n",
      "6   FIE00144982  1976   63.3206    30.0492       98.0  LIEKSA LAMPELA, FI   \n",
      "7   FIE00144982  1977   63.3206    30.0492       98.0  LIEKSA LAMPELA, FI   \n",
      "8   FIE00144982  1978   63.3206    30.0492       98.0  LIEKSA LAMPELA, FI   \n",
      "9   FIE00144982  1979   63.3206    30.0492       98.0  LIEKSA LAMPELA, FI   \n",
      "10  FIE00144982  1980   63.3206    30.0492       98.0  LIEKSA LAMPELA, FI   \n",
      "11  FIE00144982  1981   63.3206    30.0492       98.0  LIEKSA LAMPELA, FI   \n",
      "12  FIE00144982  1982   63.3206    30.0492       98.0  LIEKSA LAMPELA, FI   \n",
      "13  FIE00144982  1983   63.3206    30.0492       98.0  LIEKSA LAMPELA, FI   \n",
      "14  FIE00144982  1984   63.3206    30.0492       98.0  LIEKSA LAMPELA, FI   \n",
      "15  FIE00144982  1985   63.3206    30.0492       98.0  LIEKSA LAMPELA, FI   \n",
      "16  FIE00144982  1986   63.3206    30.0492       98.0  LIEKSA LAMPELA, FI   \n",
      "17  FIE00144982  1987   63.3206    30.0492       98.0  LIEKSA LAMPELA, FI   \n",
      "18  FIE00144982  1988   63.3206    30.0492       98.0  LIEKSA LAMPELA, FI   \n",
      "19  FIE00144982  1989   63.3206    30.0492       98.0  LIEKSA LAMPELA, FI   \n",
      "20  FIE00144982  1990   63.3206    30.0492       98.0  LIEKSA LAMPELA, FI   \n",
      "21  FIE00144982  1991   63.3206    30.0492       98.0  LIEKSA LAMPELA, FI   \n",
      "22  FIE00144982  1992   63.3206    30.0492       98.0  LIEKSA LAMPELA, FI   \n",
      "23  FIE00144982  1993   63.3206    30.0492       98.0  LIEKSA LAMPELA, FI   \n",
      "24  FIE00144982  1994   63.3206    30.0492       98.0  LIEKSA LAMPELA, FI   \n",
      "25  FIE00144982  1995   63.3206    30.0492       98.0  LIEKSA LAMPELA, FI   \n",
      "26  FIE00144982  1996   63.3206    30.0492       98.0  LIEKSA LAMPELA, FI   \n",
      "27  FIE00144982  1997   63.3206    30.0492       98.0  LIEKSA LAMPELA, FI   \n",
      "28  FIE00144982  1998   63.3206    30.0492       98.0  LIEKSA LAMPELA, FI   \n",
      "29  FIE00144982  1999   63.3206    30.0492       98.0  LIEKSA LAMPELA, FI   \n",
      "30  FIE00144982  2000   63.3206    30.0492       98.0  LIEKSA LAMPELA, FI   \n",
      "31  FIE00144982  2001   63.3206    30.0492       98.0  LIEKSA LAMPELA, FI   \n",
      "32  FIE00144982  2002   63.3206    30.0492       98.0  LIEKSA LAMPELA, FI   \n",
      "33  FIE00144982  2003   63.3206    30.0492       98.0  LIEKSA LAMPELA, FI   \n",
      "34  FIE00144982  2004   63.3206    30.0492       98.0  LIEKSA LAMPELA, FI   \n",
      "35  FIE00144982  2005   63.3206    30.0492       98.0  LIEKSA LAMPELA, FI   \n",
      "36  FIE00144982  2006   63.3206    30.0492       98.0  LIEKSA LAMPELA, FI   \n",
      "37  FIE00144982  2007   63.3206    30.0492       98.0  LIEKSA LAMPELA, FI   \n",
      "38  FIE00144982  2008   63.3206    30.0492       98.0  LIEKSA LAMPELA, FI   \n",
      "39  FIE00144982  2010   63.3206    30.0492       98.0  LIEKSA LAMPELA, FI   \n",
      "40  FIE00144982  2011   63.3206    30.0492       98.0  LIEKSA LAMPELA, FI   \n",
      "41  FIE00144982  2012   63.3206    30.0492       98.0  LIEKSA LAMPELA, FI   \n",
      "42  FIE00144982  2013   63.3206    30.0492       98.0  LIEKSA LAMPELA, FI   \n",
      "43  FIE00144982  2014   63.3206    30.0492       98.0  LIEKSA LAMPELA, FI   \n",
      "44  FIE00144982  2015   63.3206    30.0492       98.0  LIEKSA LAMPELA, FI   \n",
      "45  FIE00144982  2016   63.3206    30.0492       98.0  LIEKSA LAMPELA, FI   \n",
      "46  FIE00144982  2017   63.3206    30.0492       98.0  LIEKSA LAMPELA, FI   \n",
      "47  FIE00144982  2018   63.3206    30.0492       98.0  LIEKSA LAMPELA, FI   \n",
      "48  FIE00144982  2019   63.3206    30.0492       98.0  LIEKSA LAMPELA, FI   \n",
      "49  FIE00144982  2020   63.3206    30.0492       98.0  LIEKSA LAMPELA, FI   \n",
      "50  FIE00144982  2021   63.3206    30.0492       98.0  LIEKSA LAMPELA, FI   \n",
      "\n",
      "     CDSD  CDSD_ATTRIBUTES   CLDD CLDD_ATTRIBUTES  ...    HTDD  \\\n",
      "0     NaN              NaN    NaN             NaN  ...     NaN   \n",
      "1     4.8              NaN    4.8               E  ...     NaN   \n",
      "2   117.1              NaN  117.1               E  ...  6201.9   \n",
      "3    36.7              NaN   36.7               E  ...  5377.2   \n",
      "4    31.4              NaN   31.4               E  ...  6217.8   \n",
      "5    28.8              NaN   28.8               E  ...  5098.5   \n",
      "6     0.4              NaN    0.4               E  ...  6243.2   \n",
      "7    28.3              NaN   28.3               E  ...  6100.3   \n",
      "8    10.0              NaN   10.0               E  ...  6306.4   \n",
      "9    10.6              NaN   10.6               E  ...  6444.5   \n",
      "10   21.6              NaN   21.6               E  ...  6088.2   \n",
      "11   26.9              NaN   26.9               E  ...  6276.5   \n",
      "12   12.6              NaN   12.6               E  ...  6051.0   \n",
      "13   27.5              NaN   27.5               E  ...  5466.6   \n",
      "14   14.1              NaN   14.1               E  ...  5683.5   \n",
      "15   15.5              NaN   15.5               E  ...  6527.8   \n",
      "16   30.0              NaN   30.0               E  ...  6020.5   \n",
      "17    1.9              NaN    1.9               E  ...  6600.2   \n",
      "18   83.5              NaN   83.5               E  ...  6199.5   \n",
      "19   23.0              NaN   23.0               E  ...  5352.3   \n",
      "20    5.2              NaN    5.2               E  ...  5607.2   \n",
      "21    6.5              NaN    6.5               E  ...  6130.2   \n",
      "22    6.4              NaN    6.4               E  ...  5397.6   \n",
      "23    2.7              NaN    2.7               E  ...  5884.1   \n",
      "24   16.9              NaN   16.9               E  ...  6526.2   \n",
      "25   15.1              NaN   15.1               E  ...  5347.9   \n",
      "26    2.5              NaN    2.5               E  ...  6291.8   \n",
      "27   27.0              NaN   27.0               E  ...  5873.6   \n",
      "28   11.5              NaN   11.5               E  ...  6158.0   \n",
      "29   55.9              NaN   55.9               E  ...  5900.2   \n",
      "30   38.4              NaN   38.4               E  ...  5497.4   \n",
      "31   35.2              NaN   35.2               E  ...  5451.2   \n",
      "32   26.8              NaN   26.8               E  ...  5665.4   \n",
      "33   71.9              NaN   71.9               E  ...  6453.2   \n",
      "34   15.0              NaN   15.0               E  ...  5668.0   \n",
      "35   26.3              NaN   26.3               E  ...  5671.4   \n",
      "36   31.6              NaN   31.6               E  ...  5682.3   \n",
      "37    9.4              NaN    9.4               E  ...  5375.3   \n",
      "38    2.0              NaN    2.0               E  ...  5251.9   \n",
      "39  128.8              NaN  128.8               E  ...     NaN   \n",
      "40   61.1              NaN   61.1               E  ...  6158.9   \n",
      "41   11.3              NaN   11.3               E  ...  5427.9   \n",
      "42   35.5              NaN   35.5               E  ...  5725.8   \n",
      "43   64.0              NaN   64.0               E  ...  5091.2   \n",
      "44    1.9              NaN    1.9               E  ...  5245.3   \n",
      "45   19.2              NaN   19.2               E  ...  5217.5   \n",
      "46    2.2              NaN    2.2               E  ...  5602.7   \n",
      "47   61.2              NaN   61.2               E  ...  5499.6   \n",
      "48   14.9              NaN   14.9               E  ...  5326.3   \n",
      "49   14.8              NaN   14.8               E  ...  5208.8   \n",
      "50   88.3              NaN   88.3               E  ...  5365.6   \n",
      "\n",
      "   HTDD_ATTRIBUTES   PRCP PRCP_ATTRIBUTES  TAVG TAVG_ATTRIBUTES  TMAX  \\\n",
      "0              NaN  561.4              ,E   NaN             NaN   NaN   \n",
      "1              NaN  535.7              ,E  0.97               E  5.17   \n",
      "2                E  525.1              ,E  3.09               E  7.11   \n",
      "3                E  605.7              ,E  1.63               E  6.00   \n",
      "4                E  751.0              ,E  3.69               E  7.25   \n",
      "5                E  560.3              ,E  3.55               E  7.50   \n",
      "6                E  497.9              ,E  0.26               E  4.27   \n",
      "7                E  573.8              ,E  1.93               E  5.52   \n",
      "8                E  482.8              ,E  0.14               E  4.40   \n",
      "9                E  556.7              ,E  1.86               E  5.48   \n",
      "10               E  507.1              ,E  0.98               E  5.35   \n",
      "11               E  721.0              ,E  2.02               E  5.75   \n",
      "12               E  561.1              ,E  2.25               E  5.97   \n",
      "13               E  736.8              ,E  2.53               E  6.51   \n",
      "14               E  567.5              ,E  3.08               E  6.87   \n",
      "15               E  622.2              ,E -0.05               E  3.88   \n",
      "16               E  621.5              ,E  1.64               E  5.18   \n",
      "17               E  636.7              ,E -0.27               E  3.80   \n",
      "18               E  742.4              ,E  2.05               E  6.28   \n",
      "19               E  538.2              ,E  4.14               E  8.04   \n",
      "20               E  501.5              ,E  2.72               E  6.71   \n",
      "21               E  599.1              ,E  2.43               E  6.34   \n",
      "22               E  709.4              ,E  2.52               E  6.51   \n",
      "23               E  550.7              ,E  1.47               E  5.49   \n",
      "24               E  639.0              ,E  1.61               E  5.90   \n",
      "25               E  599.8              ,E  2.87               E  6.82   \n",
      "26               E  584.1              ,E  1.92               E  6.19   \n",
      "27               E  567.3              ,E  1.92               E  6.33   \n",
      "28               E  711.3              ,E  1.45               E  5.72   \n",
      "29               E  576.5              ,E  2.61               E  6.75   \n",
      "30               E  661.3              ,E  3.98               E  7.94   \n",
      "31               E  622.4              ,E  2.13               E  6.46   \n",
      "32               E  506.5              ,E  2.05               E  6.67   \n",
      "33               E  604.8              ,E  2.67               E  6.89   \n",
      "34               E  844.7              ,E  2.52               E  6.77   \n",
      "35               E  508.3              ,E  3.44               E  7.82   \n",
      "36               E  598.3              ,E  2.73               E  7.18   \n",
      "37               E  686.5              ,E  3.33               E  7.34   \n",
      "38               E  691.2              ,E  3.66               E  7.33   \n",
      "39             NaN  573.2              ,E  1.23               E  5.74   \n",
      "40               E  541.5              ,E  3.57               E  7.95   \n",
      "41               E  769.2              ,E  2.03               E  6.02   \n",
      "42               E  679.8              ,E  3.72               E  8.28   \n",
      "43               E  541.4              ,E  4.03               E  8.06   \n",
      "44               E  613.1              ,E  4.41               E  8.13   \n",
      "45               E  584.2              ,E  3.63               E  7.48   \n",
      "46               E  603.1              ,E  3.10               E  6.69   \n",
      "47               E  505.1              ,E  3.48               E  8.02   \n",
      "48               E  592.0              ,E  3.11               E  7.39   \n",
      "49               E  603.1              ,E  4.90               E  8.90   \n",
      "50               E  601.4              ,E  2.66               E  6.99   \n",
      "\n",
      "   TMAX_ATTRIBUTES  TMIN TMIN_ATTRIBUTES  \n",
      "0              NaN   NaN             NaN  \n",
      "1                E -3.23               E  \n",
      "2                E -0.93               E  \n",
      "3                E -2.75               E  \n",
      "4                E  0.13               E  \n",
      "5                E -0.41               E  \n",
      "6                E -3.76               E  \n",
      "7                E -1.67               E  \n",
      "8                E -4.13               E  \n",
      "9                E -1.76               E  \n",
      "10               E -3.39               E  \n",
      "11               E -1.70               E  \n",
      "12               E -1.47               E  \n",
      "13               E -1.46               E  \n",
      "14               E -0.72               E  \n",
      "15               E -3.97               E  \n",
      "16               E -1.91               E  \n",
      "17               E -4.34               E  \n",
      "18               E -2.18               E  \n",
      "19               E  0.23               E  \n",
      "20               E -1.27               E  \n",
      "21               E -1.48               E  \n",
      "22               E -1.47               E  \n",
      "23               E -2.56               E  \n",
      "24               E -2.67               E  \n",
      "25               E -1.07               E  \n",
      "26               E -2.36               E  \n",
      "27               E -2.49               E  \n",
      "28               E -2.83               E  \n",
      "29               E -1.53               E  \n",
      "30               E  0.02               E  \n",
      "31               E -2.19               E  \n",
      "32               E -2.57               E  \n",
      "33               E -1.55               E  \n",
      "34               E -1.73               E  \n",
      "35               E -0.95               E  \n",
      "36               E -1.73               E  \n",
      "37               E -0.68               E  \n",
      "38               E -0.01               E  \n",
      "39               E -3.27               E  \n",
      "40               E -0.82               E  \n",
      "41               E -1.96               E  \n",
      "42               E -0.83               E  \n",
      "43               E -0.01               E  \n",
      "44               E  0.68               E  \n",
      "45               E -0.23               E  \n",
      "46               E -0.49               E  \n",
      "47               E -1.07               E  \n",
      "48               E -1.17               E  \n",
      "49               E  0.90               E  \n",
      "50               E -1.68               E  \n",
      "\n",
      "[51 rows x 64 columns],          STATION  DATE  LATITUDE  LONGITUDE  ELEVATION                 NAME  \\\n",
      "0    GM000004204  1824   50.9267    11.5842      155.0  JENA STERNWARTE, GM   \n",
      "1    GM000004204  1825   50.9267    11.5842      155.0  JENA STERNWARTE, GM   \n",
      "2    GM000004204  1826   50.9267    11.5842      155.0  JENA STERNWARTE, GM   \n",
      "3    GM000004204  1827   50.9267    11.5842      155.0  JENA STERNWARTE, GM   \n",
      "4    GM000004204  1828   50.9267    11.5842      155.0  JENA STERNWARTE, GM   \n",
      "..           ...   ...       ...        ...        ...                  ...   \n",
      "188  GM000004204  2017   50.9267    11.5842      155.0  JENA STERNWARTE, GM   \n",
      "189  GM000004204  2018   50.9267    11.5842      155.0  JENA STERNWARTE, GM   \n",
      "190  GM000004204  2019   50.9267    11.5842      155.0  JENA STERNWARTE, GM   \n",
      "191  GM000004204  2020   50.9267    11.5842      155.0  JENA STERNWARTE, GM   \n",
      "192  GM000004204  2021   50.9267    11.5842      155.0  JENA STERNWARTE, GM   \n",
      "\n",
      "      CDSD  CDSD_ATTRIBUTES   CLDD CLDD_ATTRIBUTES  ...    HTDD  \\\n",
      "0     43.9              NaN   43.9               E  ...     NaN   \n",
      "1    121.2              NaN  121.2               E  ...  3287.6   \n",
      "2    195.6              NaN  195.6               E  ...  3302.3   \n",
      "3      NaN              NaN    NaN             NaN  ...  3284.1   \n",
      "4      NaN              NaN    NaN             NaN  ...     NaN   \n",
      "..     ...              ...    ...             ...  ...     ...   \n",
      "188  204.5              NaN  204.5               E  ...  2940.0   \n",
      "189  332.3              NaN  332.3               E  ...  2774.8   \n",
      "190  281.0              NaN  281.0               E  ...  2720.2   \n",
      "191  217.5              NaN  217.5               E  ...  2684.4   \n",
      "192  172.8              NaN  172.8               E  ...  3011.7   \n",
      "\n",
      "    HTDD_ATTRIBUTES   PRCP PRCP_ATTRIBUTES   TAVG TAVG_ATTRIBUTES   TMAX  \\\n",
      "0               NaN    NaN             NaN   8.52               E  13.48   \n",
      "1                 E    NaN             NaN   9.34               E  13.41   \n",
      "2                 E    NaN             NaN   9.21               E  13.33   \n",
      "3                 E  589.9              ,E   8.75               E  12.93   \n",
      "4               NaN  672.2              ,E   9.50               E  13.32   \n",
      "..              ...    ...             ...    ...             ...    ...   \n",
      "188               E  647.9              ,E  11.08               E  15.79   \n",
      "189               E  415.1              ,E  11.66               E  16.85   \n",
      "190               E  485.4              ,E  11.59               E  16.83   \n",
      "191               E  595.0              ,E  11.53               E  16.73   \n",
      "192               E  691.7              ,E  10.27               E  14.92   \n",
      "\n",
      "     TMAX_ATTRIBUTES  TMIN TMIN_ATTRIBUTES  \n",
      "0                  E  3.56               E  \n",
      "1                  E  5.28               E  \n",
      "2                  E  5.08               E  \n",
      "3                  E  4.57               E  \n",
      "4                  E  5.69               E  \n",
      "..               ...   ...             ...  \n",
      "188                E  6.37               E  \n",
      "189                E  6.46               E  \n",
      "190                E  6.34               E  \n",
      "191                E  6.34               E  \n",
      "192                E  5.61               E  \n",
      "\n",
      "[193 rows x 68 columns],          STATION  DATE  LATITUDE  LONGITUDE  ELEVATION              NAME  \\\n",
      "0    NLM00006235  1851   52.9331       4.75        0.0  DEN HELDER 1, NL   \n",
      "1    NLM00006235  1852   52.9331       4.75        0.0  DEN HELDER 1, NL   \n",
      "2    NLM00006235  1853   52.9331       4.75        0.0  DEN HELDER 1, NL   \n",
      "3    NLM00006235  1854   52.9331       4.75        0.0  DEN HELDER 1, NL   \n",
      "4    NLM00006235  1855   52.9331       4.75        0.0  DEN HELDER 1, NL   \n",
      "..           ...   ...       ...        ...        ...               ...   \n",
      "166  NLM00006235  2017   52.9331       4.75        0.0  DEN HELDER 1, NL   \n",
      "167  NLM00006235  2018   52.9331       4.75        0.0  DEN HELDER 1, NL   \n",
      "168  NLM00006235  2019   52.9331       4.75        0.0  DEN HELDER 1, NL   \n",
      "169  NLM00006235  2020   52.9331       4.75        0.0  DEN HELDER 1, NL   \n",
      "170  NLM00006235  2021   52.9331       4.75        0.0  DEN HELDER 1, NL   \n",
      "\n",
      "      CDSD  CDSD_ATTRIBUTES   CLDD CLDD_ATTRIBUTES  ...    HTDD  \\\n",
      "0      NaN              NaN    NaN             NaN  ...     NaN   \n",
      "1      NaN              NaN    NaN             NaN  ...     NaN   \n",
      "2      NaN              NaN    NaN             NaN  ...     NaN   \n",
      "3      NaN              NaN    NaN             NaN  ...     NaN   \n",
      "4      NaN              NaN    NaN             NaN  ...     NaN   \n",
      "..     ...              ...    ...             ...  ...     ...   \n",
      "166   37.5              NaN   37.5               E  ...  2776.1   \n",
      "167  102.1              NaN  102.1               E  ...  2781.2   \n",
      "168   92.3              NaN   92.3               E  ...  2655.4   \n",
      "169  100.2              NaN  100.2               E  ...  2653.9   \n",
      "170    NaN              NaN    NaN             NaN  ...  2952.7   \n",
      "\n",
      "    HTDD_ATTRIBUTES    PRCP PRCP_ATTRIBUTES   TAVG TAVG_ATTRIBUTES   TMAX  \\\n",
      "0               NaN   827.7              ,E    NaN             NaN    NaN   \n",
      "1               NaN   915.0              ,E    NaN             NaN    NaN   \n",
      "2               NaN   698.3              ,E    NaN             NaN    NaN   \n",
      "3               NaN   642.8              ,E    NaN             NaN    NaN   \n",
      "4               NaN   533.7              ,E    NaN             NaN    NaN   \n",
      "..              ...     ...             ...    ...             ...    ...   \n",
      "166               E   901.6              ,E  10.88               E  13.92   \n",
      "167               E   686.4              ,E  10.98               E  14.08   \n",
      "168               E   976.0              ,E  11.10               E  14.21   \n",
      "169               E  1036.0              ,E  11.43               E  14.46   \n",
      "170               E     NaN             NaN    NaN             NaN    NaN   \n",
      "\n",
      "     TMAX_ATTRIBUTES  TMIN TMIN_ATTRIBUTES  \n",
      "0                NaN   NaN             NaN  \n",
      "1                NaN   NaN             NaN  \n",
      "2                NaN   NaN             NaN  \n",
      "3                NaN   NaN             NaN  \n",
      "4                NaN   NaN             NaN  \n",
      "..               ...   ...             ...  \n",
      "166                E  7.84               E  \n",
      "167                E  7.88               E  \n",
      "168                E  8.00               E  \n",
      "169                E  8.39               E  \n",
      "170              NaN   NaN             NaN  \n",
      "\n",
      "[171 rows x 68 columns],          STATION  DATE  LATITUDE  LONGITUDE  ELEVATION             NAME  \\\n",
      "0    SWE00139148  1836     59.86      17.63       13.0  UPPSALA AUT, SW   \n",
      "1    SWE00139148  1837     59.86      17.63       13.0  UPPSALA AUT, SW   \n",
      "2    SWE00139148  1838     59.86      17.63       13.0  UPPSALA AUT, SW   \n",
      "3    SWE00139148  1839     59.86      17.63       13.0  UPPSALA AUT, SW   \n",
      "4    SWE00139148  1840     59.86      17.63       13.0  UPPSALA AUT, SW   \n",
      "..           ...   ...       ...        ...        ...              ...   \n",
      "181  SWE00139148  2017     59.86      17.63       13.0  UPPSALA AUT, SW   \n",
      "182  SWE00139148  2018     59.86      17.63       13.0  UPPSALA AUT, SW   \n",
      "183  SWE00139148  2019     59.86      17.63       13.0  UPPSALA AUT, SW   \n",
      "184  SWE00139148  2020     59.86      17.63       13.0  UPPSALA AUT, SW   \n",
      "185  SWE00139148  2021     59.86      17.63       13.0  UPPSALA AUT, SW   \n",
      "\n",
      "      CDSD  CDSD_ATTRIBUTES   CLDD CLDD_ATTRIBUTES  ...    HTDD  \\\n",
      "0      NaN              NaN    NaN             NaN  ...     NaN   \n",
      "1      NaN              NaN    NaN             NaN  ...     NaN   \n",
      "2      NaN              NaN    NaN             NaN  ...     NaN   \n",
      "3      NaN              NaN    NaN             NaN  ...     NaN   \n",
      "4      2.4              NaN    2.4               E  ...     NaN   \n",
      "..     ...              ...    ...             ...  ...     ...   \n",
      "181   27.8              NaN   27.8               E  ...  3954.2   \n",
      "182  206.6              NaN  206.6               E  ...  4001.2   \n",
      "183   88.8              NaN   88.8               E  ...  3812.0   \n",
      "184   98.7              NaN   98.7               E  ...  3716.0   \n",
      "185  122.9              NaN  122.9               E  ...  3784.3   \n",
      "\n",
      "    HTDD_ATTRIBUTES   PRCP PRCP_ATTRIBUTES  TAVG TAVG_ATTRIBUTES   TMAX  \\\n",
      "0               NaN  584.1              ,E   NaN             NaN    NaN   \n",
      "1               NaN  497.8              ,E   NaN             NaN    NaN   \n",
      "2               NaN  644.7              ,E   NaN             NaN    NaN   \n",
      "3               NaN  507.9              ,E   NaN             NaN    NaN   \n",
      "4               NaN  575.4              ,E  5.02               E   9.51   \n",
      "..              ...    ...             ...   ...             ...    ...   \n",
      "181               E  518.1              ,E  7.45               E  11.42   \n",
      "182               E  461.0              ,E  8.12               E  12.42   \n",
      "183               E  574.7              ,E  7.81               E  11.86   \n",
      "184               E  503.1              ,E  9.06               E  13.12   \n",
      "185               E  465.7              ,E  7.33               E  11.47   \n",
      "\n",
      "     TMAX_ATTRIBUTES  TMIN TMIN_ATTRIBUTES  \n",
      "0                NaN   NaN             NaN  \n",
      "1                NaN   NaN             NaN  \n",
      "2                NaN   NaN             NaN  \n",
      "3                NaN   NaN             NaN  \n",
      "4                  E  0.51               E  \n",
      "..               ...   ...             ...  \n",
      "181                E  3.49               E  \n",
      "182                E  3.83               E  \n",
      "183                E  3.77               E  \n",
      "184                E  5.01               E  \n",
      "185                E  3.19               E  \n",
      "\n",
      "[186 rows x 68 columns],          STATION  DATE  LATITUDE  LONGITUDE  ELEVATION  \\\n",
      "0    USW00094728  1869  40.77898  -73.96925       42.7   \n",
      "1    USW00094728  1870  40.77898  -73.96925       42.7   \n",
      "2    USW00094728  1871  40.77898  -73.96925       42.7   \n",
      "3    USW00094728  1872  40.77898  -73.96925       42.7   \n",
      "4    USW00094728  1873  40.77898  -73.96925       42.7   \n",
      "..           ...   ...       ...        ...        ...   \n",
      "149  USW00094728  2018  40.77898  -73.96925       42.7   \n",
      "150  USW00094728  2019  40.77898  -73.96925       42.7   \n",
      "151  USW00094728  2020  40.77898  -73.96925       42.7   \n",
      "152  USW00094728  2021  40.77898  -73.96925       42.7   \n",
      "153  USW00094728  2022  40.77898  -73.96925       42.7   \n",
      "\n",
      "                            NAME  AWND AWND_ATTRIBUTES   CDSD  \\\n",
      "0    NY CITY CENTRAL PARK, NY US   NaN             NaN    NaN   \n",
      "1    NY CITY CENTRAL PARK, NY US   NaN             NaN  603.5   \n",
      "2    NY CITY CENTRAL PARK, NY US   NaN             NaN  426.6   \n",
      "3    NY CITY CENTRAL PARK, NY US   NaN             NaN  631.8   \n",
      "4    NY CITY CENTRAL PARK, NY US   NaN             NaN  474.0   \n",
      "..                           ...   ...             ...    ...   \n",
      "149  NY CITY CENTRAL PARK, NY US   NaN             NaN  774.0   \n",
      "150  NY CITY CENTRAL PARK, NY US   NaN             NaN  684.1   \n",
      "151  NY CITY CENTRAL PARK, NY US   NaN             NaN  725.4   \n",
      "152  NY CITY CENTRAL PARK, NY US   NaN             NaN  716.6   \n",
      "153  NY CITY CENTRAL PARK, NY US   NaN             NaN    NaN   \n",
      "\n",
      "     CDSD_ATTRIBUTES  ...  WSF1 WSF1_ATTRIBUTES  WSF2 WSF2_ATTRIBUTES  WSF5  \\\n",
      "0                NaN  ...   NaN             NaN   NaN             NaN   NaN   \n",
      "1                NaN  ...   NaN             NaN   NaN             NaN   NaN   \n",
      "2                NaN  ...   NaN             NaN   NaN             NaN   NaN   \n",
      "3                NaN  ...   NaN             NaN   NaN             NaN   NaN   \n",
      "4                NaN  ...   NaN             NaN   NaN             NaN   NaN   \n",
      "..               ...  ...   ...             ...   ...             ...   ...   \n",
      "149              NaN  ...   NaN             NaN   NaN             NaN   NaN   \n",
      "150              NaN  ...   NaN             NaN   NaN             NaN   NaN   \n",
      "151              NaN  ...   NaN             NaN   NaN             NaN   NaN   \n",
      "152              NaN  ...   NaN             NaN   NaN             NaN   NaN   \n",
      "153              NaN  ...   NaN             NaN   NaN             NaN   NaN   \n",
      "\n",
      "    WSF5_ATTRIBUTES  WSFG WSFG_ATTRIBUTES  WSFM  WSFM_ATTRIBUTES  \n",
      "0               NaN   NaN             NaN   NaN              NaN  \n",
      "1               NaN   NaN             NaN   NaN              NaN  \n",
      "2               NaN   NaN             NaN   NaN              NaN  \n",
      "3               NaN   NaN             NaN   NaN              NaN  \n",
      "4               NaN   NaN             NaN   NaN              NaN  \n",
      "..              ...   ...             ...   ...              ...  \n",
      "149             NaN   NaN             NaN   NaN              NaN  \n",
      "150             NaN   NaN             NaN   NaN              NaN  \n",
      "151             NaN   NaN             NaN   NaN              NaN  \n",
      "152             NaN   NaN             NaN   NaN              NaN  \n",
      "153             NaN   NaN             NaN   NaN              NaN  \n",
      "\n",
      "[154 rows x 106 columns]]\n"
     ]
    }
   ],
   "source": [
    "data_dirs_list = ['../Data/FIE00144982.csv', '../Data/GM000004204.csv', '../Data/NLM00006235.csv', '../Data/SWE00139148.csv', '../Data/USW00094728.csv']\n",
    "dfs = []\n",
    "for data_dir in data_dirs_list:\n",
    "    dfs.append(pd.read_csv(data_dir))\n",
    "\n",
    "print(dfs)"
   ]
  },
  {
   "cell_type": "markdown",
   "metadata": {},
   "source": [
    "Then, we will get the average temperatures data from the CSV files."
   ]
  },
  {
   "cell_type": "code",
   "execution_count": 295,
   "metadata": {},
   "outputs": [
    {
     "name": "stdout",
     "output_type": "stream",
     "text": [
      "Station:  ../Data/FIE00144982.csv\n",
      "    DATE  TAVG\n",
      "0   1970   NaN\n",
      "1   1971  0.97\n",
      "2   1972  3.09\n",
      "3   1973  1.63\n",
      "4   1974  3.69\n",
      "5   1975  3.55\n",
      "6   1976  0.26\n",
      "7   1977  1.93\n",
      "8   1978  0.14\n",
      "9   1979  1.86\n",
      "10  1980  0.98\n",
      "11  1981  2.02\n",
      "12  1982  2.25\n",
      "13  1983  2.53\n",
      "14  1984  3.08\n",
      "15  1985 -0.05\n",
      "16  1986  1.64\n",
      "17  1987 -0.27\n",
      "18  1988  2.05\n",
      "19  1989  4.14\n",
      "20  1990  2.72\n",
      "21  1991  2.43\n",
      "22  1992  2.52\n",
      "23  1993  1.47\n",
      "24  1994  1.61\n",
      "25  1995  2.87\n",
      "26  1996  1.92\n",
      "27  1997  1.92\n",
      "28  1998  1.45\n",
      "29  1999  2.61\n",
      "30  2000  3.98\n",
      "31  2001  2.13\n",
      "32  2002  2.05\n",
      "33  2003  2.67\n",
      "34  2004  2.52\n",
      "35  2005  3.44\n",
      "36  2006  2.73\n",
      "37  2007  3.33\n",
      "38  2008  3.66\n",
      "39  2010  1.23\n",
      "40  2011  3.57\n",
      "41  2012  2.03\n",
      "42  2013  3.72\n",
      "43  2014  4.03\n",
      "44  2015  4.41\n",
      "45  2016  3.63\n",
      "46  2017  3.10\n",
      "47  2018  3.48\n",
      "48  2019  3.11\n",
      "49  2020  4.90\n",
      "50  2021  2.66\n",
      "Station:  ../Data/GM000004204.csv\n",
      "     DATE   TAVG\n",
      "0    1824   8.52\n",
      "1    1825   9.34\n",
      "2    1826   9.21\n",
      "3    1827   8.75\n",
      "4    1828   9.50\n",
      "..    ...    ...\n",
      "188  2017  11.08\n",
      "189  2018  11.66\n",
      "190  2019  11.59\n",
      "191  2020  11.53\n",
      "192  2021  10.27\n",
      "\n",
      "[193 rows x 2 columns]\n",
      "Station:  ../Data/NLM00006235.csv\n",
      "     DATE   TAVG\n",
      "0    1851    NaN\n",
      "1    1852    NaN\n",
      "2    1853    NaN\n",
      "3    1854    NaN\n",
      "4    1855    NaN\n",
      "..    ...    ...\n",
      "166  2017  10.88\n",
      "167  2018  10.98\n",
      "168  2019  11.10\n",
      "169  2020  11.43\n",
      "170  2021    NaN\n",
      "\n",
      "[171 rows x 2 columns]\n",
      "Station:  ../Data/SWE00139148.csv\n",
      "     DATE  TAVG\n",
      "0    1836   NaN\n",
      "1    1837   NaN\n",
      "2    1838   NaN\n",
      "3    1839   NaN\n",
      "4    1840  5.02\n",
      "..    ...   ...\n",
      "181  2017  7.45\n",
      "182  2018  8.12\n",
      "183  2019  7.81\n",
      "184  2020  9.06\n",
      "185  2021  7.33\n",
      "\n",
      "[186 rows x 2 columns]\n",
      "Station:  ../Data/USW00094728.csv\n",
      "     DATE   TAVG\n",
      "0    1869    NaN\n",
      "1    1870  12.11\n",
      "2    1871  10.73\n",
      "3    1872  10.74\n",
      "4    1873  10.45\n",
      "..    ...    ...\n",
      "149  2018  13.27\n",
      "150  2019  13.12\n",
      "151  2020  14.05\n",
      "152  2021  13.82\n",
      "153  2022    NaN\n",
      "\n",
      "[154 rows x 2 columns]\n"
     ]
    }
   ],
   "source": [
    "temperatures = []\n",
    "for df in dfs:\n",
    "    temperatures.append(df[['DATE', 'TAVG']])\n",
    "\n",
    "for i  in range(len(temperatures)):\n",
    "    print(\"Station: \", data_dirs_list[i])\n",
    "    print(temperatures[i])"
   ]
  },
  {
   "cell_type": "markdown",
   "metadata": {},
   "source": [
    "Now, let's find if there is some missing cells in the data."
   ]
  },
  {
   "cell_type": "code",
   "execution_count": 296,
   "metadata": {},
   "outputs": [
    {
     "name": "stdout",
     "output_type": "stream",
     "text": [
      "Station:  ../Data/FIE00144982.csv\n",
      "Missing data:  [2009]\n",
      "Station:  ../Data/GM000004204.csv\n",
      "No missing data\n",
      "Station:  ../Data/NLM00006235.csv\n",
      "No missing data\n",
      "Station:  ../Data/SWE00139148.csv\n",
      "No missing data\n",
      "Station:  ../Data/USW00094728.csv\n",
      "No missing data\n"
     ]
    }
   ],
   "source": [
    "processing_starting_year = 1991\n",
    "processing_ending_year = 2020\n",
    "years_list = [x for x in range(processing_starting_year, processing_ending_year + 1)]\n",
    "\n",
    "def find_if_missing(temp):  # temp = temperature\n",
    "    \n",
    "    years = []\n",
    "\n",
    "    for i in range(len(temp)):\n",
    "        years.append(int(temp.iloc[i]['DATE']))\n",
    "\n",
    "    starting_position = years.index(processing_starting_year)\n",
    "    ending_position = years.index(processing_ending_year)\n",
    "\n",
    "    missing_years = []\n",
    "    available_years = []\n",
    "\n",
    "    for i in range(starting_position, ending_position + 1, 1):\n",
    "        if np.isnan(temp.iloc[i]['TAVG']):\n",
    "            missing_years.append(years[i])\n",
    "        else:\n",
    "            available_years.append(years[i])\n",
    "\n",
    "    not_available_years = list(set(years_list) - set(available_years))\n",
    "    # print(not_available_years)\n",
    "\n",
    "    answer = missing_years + not_available_years\n",
    "\n",
    "    return answer\n",
    "    \n",
    "    \n",
    "\n",
    "# print(len(temperatures))\n",
    "# print(len(data_dirs_list))\n",
    "\n",
    "for i in range(0, len(temperatures)):\n",
    "    print(\"Station: \", data_dirs_list[i])\n",
    "    \n",
    "    missing = find_if_missing(temperatures[i])\n",
    "\n",
    "    if len(missing) == 0:\n",
    "        print(\"No missing data\")\n",
    "    else:\n",
    "        print(\"Missing data: \", missing)"
   ]
  },
  {
   "cell_type": "markdown",
   "metadata": {},
   "source": [
    "Oops, there is a missing cell in data of the first station. Let's fix it."
   ]
  },
  {
   "cell_type": "code",
   "execution_count": 297,
   "metadata": {},
   "outputs": [],
   "source": [
    "def fill_missing_data(temp):\n",
    "    years = []\n",
    "\n",
    "    for i in range(len(temp)):\n",
    "        years.append(int(temp.iloc[i]['DATE']))\n",
    "\n",
    "    starting_position = years.index(processing_starting_year)\n",
    "    ending_position = years.index(processing_ending_year)\n",
    "\n",
    "    years_data = years[starting_position:ending_position + 1]\n",
    "\n",
    "    missing_years = find_if_missing(temp)\n",
    "    \n",
    "    if len(missing_years) > 0:\n",
    "        for year in missing_years:  # there is only one missing cell\n",
    "            # print(\"Year: \", year)\n",
    "            before_position = years.index(year - 1)\n",
    "            after_position = years.index(year + 1)\n",
    "            # print(\"Before: \", years[before_position])\n",
    "            # print(\"After: \", years[after_position])\n",
    "\n",
    "            before_value = temp.iloc[before_position]['TAVG']\n",
    "            after_value = temp.iloc[after_position]['TAVG']\n",
    "            # print(\"Before value:\" , before_value)\n",
    "            # print(\"After value: \", after_value)\n",
    "            new_value = round((before_value + after_value) / 2, 2)\n",
    "            # print(\"New value: \", new_value)\n",
    "\n",
    "            \n",
    "            temperatures_data = []\n",
    "            for i in range(starting_position, before_position + 1, 1):\n",
    "                temperatures_data.append(temp.iloc[i]['TAVG'])\n",
    "            temperatures_data.append(new_value)\n",
    "            for i in range(after_position, ending_position + 1, 1):\n",
    "                temperatures_data.append(temp.iloc[i]['TAVG'])\n",
    "\n",
    "            return temperatures_data"
   ]
  },
  {
   "cell_type": "markdown",
   "metadata": {},
   "source": [
    "Now, data will be written to csv files for later use."
   ]
  },
  {
   "cell_type": "code",
   "execution_count": 298,
   "metadata": {},
   "outputs": [],
   "source": [
    "def write_data_to_csv_files(temp, file_name):  # temp = temperature\n",
    "    years = []\n",
    "\n",
    "    for i in range(len(temp)):\n",
    "        years.append(int(temp.iloc[i]['DATE']))\n",
    "\n",
    "    starting_position = years.index(processing_starting_year)\n",
    "    ending_position = years.index(processing_ending_year)\n",
    "\n",
    "    years_data = []\n",
    "    for i in range(processing_starting_year, processing_ending_year + 1, 1):\n",
    "        years_data.append(i)\n",
    "    # print(years_data)\n",
    "\n",
    "    temperatures_data = []\n",
    "\n",
    "    missing_years = find_if_missing(temp)\n",
    "    if len(missing_years) > 0:\n",
    "        temperatures_data =  fill_missing_data(temp)\n",
    "    else:\n",
    "        for i in range(starting_position, ending_position + 1, 1):\n",
    "            temperatures_data.append(temp.iloc[i]['TAVG'])\n",
    "\n",
    "    data = {'Year': years_data, 'Temperature': temperatures_data}\n",
    "    df = pd.DataFrame(data)\n",
    "    df.to_csv(file_name, index = False)\n",
    "\n",
    "    # print(temperatures_data)\n",
    "\n",
    "for i in range(len(temperatures)):\n",
    "    file_name = \"data\" + str(i) + \".csv\"\n",
    "    write_data_to_csv_files(temperatures[i], file_name)\n"
   ]
  },
  {
   "cell_type": "markdown",
   "metadata": {},
   "source": [
    "Now, we will visualize data by scatter graphs."
   ]
  },
  {
   "cell_type": "code",
   "execution_count": 299,
   "metadata": {},
   "outputs": [],
   "source": [
    "def visualize_data(file_name):\n",
    "    df = pd.read_csv(file_name)\n",
    "    years_data = df.loc[:, \"Year\"].to_numpy()\n",
    "    # print(years_data)\n",
    "\n",
    "    temperatures_data = df.loc[:, \"Temperature\"].to_numpy()\n",
    "    # print(temperatures_data)\n",
    "\n",
    "    plt.scatter(years_data, temperatures_data, linewidths=0.6)"
   ]
  },
  {
   "cell_type": "code",
   "execution_count": 300,
   "metadata": {},
   "outputs": [
    {
     "data": {
      "image/png": "[encoded data removed]",
      "text/plain": [
       "<Figure size 1440x504 with 1 Axes>"
      ]
     },
     "metadata": {
      "needs_background": "light"
     },
     "output_type": "display_data"
    }
   ],
   "source": [
    "visualize_data(\"data0.csv\")"
   ]
  },
  {
   "cell_type": "code",
   "execution_count": 301,
   "metadata": {},
   "outputs": [
    {
     "data": {
      "image/png": "[encoded data removed]",
      "text/plain": [
       "<Figure size 1440x504 with 1 Axes>"
      ]
     },
     "metadata": {
      "needs_background": "light"
     },
     "output_type": "display_data"
    }
   ],
   "source": [
    "visualize_data(\"data1.csv\")"
   ]
  },
  {
   "cell_type": "code",
   "execution_count": 302,
   "metadata": {},
   "outputs": [
    {
     "data": {
      "image/png": "[encoded data removed]",
      "text/plain": [
       "<Figure size 1440x504 with 1 Axes>"
      ]
     },
     "metadata": {
      "needs_background": "light"
     },
     "output_type": "display_data"
    }
   ],
   "source": [
    "visualize_data(\"data2.csv\")"
   ]
  },
  {
   "cell_type": "code",
   "execution_count": 303,
   "metadata": {},
   "outputs": [
    {
     "data": {
      "image/png": "[encoded data removed]",
      "text/plain": [
       "<Figure size 1440x504 with 1 Axes>"
      ]
     },
     "metadata": {
      "needs_background": "light"
     },
     "output_type": "display_data"
    }
   ],
   "source": [
    "visualize_data(\"data3.csv\")"
   ]
  },
  {
   "cell_type": "code",
   "execution_count": 304,
   "metadata": {},
   "outputs": [
    {
     "data": {
      "image/png": "[encoded data removed]",
      "text/plain": [
       "<Figure size 1440x504 with 1 Axes>"
      ]
     },
     "metadata": {
      "needs_background": "light"
     },
     "output_type": "display_data"
    }
   ],
   "source": [
    "visualize_data(\"data4.csv\")"
   ]
  },
  {
   "cell_type": "code",
   "execution_count": 305,
   "metadata": {},
   "outputs": [],
   "source": [
    "from sklearn.metrics import r2_score"
   ]
  },
  {
   "cell_type": "code",
   "execution_count": 306,
   "metadata": {},
   "outputs": [
    {
     "name": "stdout",
     "output_type": "stream",
     "text": [
      "[1, 2, 3, 4, 5, 6, 7, 8, 9, 10, 11, 12, 13, 14, 15, 16, 17, 18, 19, 20, 21, 22, 23, 24, 25, 26, 27, 28, 29, 30]\n"
     ]
    }
   ],
   "source": [
    "x = []\n",
    "for i in range(processing_starting_year, processing_ending_year + 1, 1):\n",
    "    x.append(i - processing_starting_year + 1)\n",
    "print(x)"
   ]
  },
  {
   "cell_type": "code",
   "execution_count": 307,
   "metadata": {},
   "outputs": [],
   "source": [
    "def regression(file_name):\n",
    "    # regression model\n",
    "    df = pd.read_csv(file_name)\n",
    "\n",
    "    y = []\n",
    "    for i in range(len(df)):\n",
    "        y.append(df.iloc[i]['Temperature'])\n",
    "    \n",
    "    plt.scatter(x, y, linewidths=0.6)\n",
    "    \n",
    "    model = np.poly1d(np.polyfit(x, y, 4))\n",
    "\n",
    "    line_format = np.linspace(1, 40, 100)\n",
    "\n",
    "    plt.scatter(x, y)\n",
    "    plt.plot(line_format, model(line_format))\n",
    "    plt.show()\n",
    "    \n",
    "    # find regression coefficients\n",
    "    y_array = []\n",
    "    for i in range(len(y)):\n",
    "        element = []\n",
    "        element.append(y[i])\n",
    "        y_array.append(element)\n",
    "    \n",
    "    y_matrix = np.matrix(y_array)\n",
    "\n",
    "    a_list = []\n",
    "    for i in range(len(x)):\n",
    "        elements = []\n",
    "\n",
    "        for j in range(4, -1, -1):\n",
    "            elements.append(x[i] ** j)\n",
    "        \n",
    "        a_list.append(elements)\n",
    "    \n",
    "    a_matrix = np.matrix(a_list)\n",
    "    \n",
    "\n",
    "    temp1 = a_matrix.transpose() * a_matrix\n",
    "    temp1 = np.linalg.inv(temp1)\n",
    "    temp2 = temp1 * a_matrix.transpose()\n",
    "\n",
    "    theta_matrix = temp2 * y_matrix\n",
    "    \n",
    "    print(\"Regression polynomial: \")\n",
    "    for i in range(0, 5, 1):\n",
    "        print(theta_matrix.item(i), end = \"\")\n",
    "        print( \"x^\", end = \"\")\n",
    "        print(4 - i, end=\"\")\n",
    "        if (i < 4):\n",
    "            print(\" + \", end = \"\")\n",
    "    \n",
    "    print(\"\")\n",
    "\n",
    "    # find r-square\n",
    "    print(\"R-squared value: \", r2_score(y, model(x)))\n",
    "\n",
    "   \n"
   ]
  },
  {
   "cell_type": "code",
   "execution_count": 308,
   "metadata": {},
   "outputs": [
    {
     "data": {
      "image/png": "[encoded data removed]",
      "text/plain": [
       "<Figure size 1440x504 with 1 Axes>"
      ]
     },
     "metadata": {
      "needs_background": "light"
     },
     "output_type": "display_data"
    },
    {
     "name": "stdout",
     "output_type": "stream",
     "text": [
      "Regression polynomial: \n",
      "-5.440696588393936e-08x^4 + -1.4193661010427498e-06x^3 + -3.390187408964452e-05x^2 + 0.06906697211956156x^1 + 1.7922748300933473x^0\n",
      "R-squared value:  0.41135774639672984\n"
     ]
    }
   ],
   "source": [
    "regression(\"data0.csv\") "
   ]
  },
  {
   "cell_type": "code",
   "execution_count": 309,
   "metadata": {},
   "outputs": [
    {
     "data": {
      "image/png": "[encoded data removed]",
      "text/plain": [
       "<Figure size 1440x504 with 1 Axes>"
      ]
     },
     "metadata": {
      "needs_background": "light"
     },
     "output_type": "display_data"
    },
    {
     "name": "stdout",
     "output_type": "stream",
     "text": [
      "Regression polynomial: \n",
      "-5.700798658750153e-08x^4 + -2.0599835597330993e-06x^3 + -5.6062679481117645e-05x^2 + 0.049185535684720484x^1 + 9.83816261835397x^0\n",
      "R-squared value:  0.3252790213127038\n"
     ]
    }
   ],
   "source": [
    "regression(\"data1.csv\") "
   ]
  },
  {
   "cell_type": "code",
   "execution_count": 310,
   "metadata": {},
   "outputs": [
    {
     "data": {
      "image/png": "[encoded data removed]",
      "text/plain": [
       "<Figure size 1440x504 with 1 Axes>"
      ]
     },
     "metadata": {
      "needs_background": "light"
     },
     "output_type": "display_data"
    },
    {
     "name": "stdout",
     "output_type": "stream",
     "text": [
      "Regression polynomial: \n",
      "1.2330403458287108e-10x^4 + -6.025722086308692e-07x^3 + -2.7827060612108855e-05x^2 + 0.043479773715056236x^1 + 9.705155031703459x^0\n",
      "R-squared value:  0.3426706777630888\n"
     ]
    }
   ],
   "source": [
    "regression(\"data2.csv\") "
   ]
  },
  {
   "cell_type": "code",
   "execution_count": 311,
   "metadata": {},
   "outputs": [
    {
     "data": {
      "image/png": "[encoded data removed]",
      "text/plain": [
       "<Figure size 1440x504 with 1 Axes>"
      ]
     },
     "metadata": {
      "needs_background": "light"
     },
     "output_type": "display_data"
    },
    {
     "name": "stdout",
     "output_type": "stream",
     "text": [
      "Regression polynomial: \n",
      "-8.846360789657505e-08x^4 + -2.5081075586074237e-06x^3 + -6.295659694026284e-05x^2 + 0.05562606761739193x^1 + 6.385266857282264x^0\n",
      "R-squared value:  0.41389469039592786\n"
     ]
    }
   ],
   "source": [
    "regression(\"data3.csv\") "
   ]
  },
  {
   "cell_type": "code",
   "execution_count": 312,
   "metadata": {},
   "outputs": [
    {
     "data": {
      "image/png": "[encoded data removed]",
      "text/plain": [
       "<Figure size 1440x504 with 1 Axes>"
      ]
     },
     "metadata": {
      "needs_background": "light"
     },
     "output_type": "display_data"
    },
    {
     "name": "stdout",
     "output_type": "stream",
     "text": [
      "Regression polynomial: \n",
      "-6.086130818581686e-08x^4 + -1.304404641842641e-06x^3 + -2.48900394735611e-05x^2 + 0.027780336262272318x^1 + 12.725016877784563x^0\n",
      "R-squared value:  0.15027619985547735\n"
     ]
    }
   ],
   "source": [
    "regression(\"data4.csv\") "
   ]
  }
 ],
 "metadata": {
  "interpreter": {
   "hash": "2e918aaa81d99c652401bdd1a0c185581595fb477ac919641bd65261b5d7782a"
  },
  "kernelspec": {
   "display_name": "Python 3.9.7 ('base')",
   "language": "python",
   "name": "python3"
  },
  "language_info": {
   "codemirror_mode": {
    "name": "ipython",
    "version": 3
   },
   "file_extension": ".py",
   "mimetype": "text/x-python",
   "name": "python",
   "nbconvert_exporter": "python",
   "pygments_lexer": "ipython3",
   "version": "3.9.7"
  },
  "orig_nbformat": 4
 },
 "nbformat": 4,
 "nbformat_minor": 2
}
