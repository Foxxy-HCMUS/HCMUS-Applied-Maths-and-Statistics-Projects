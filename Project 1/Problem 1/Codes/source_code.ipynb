{
 "cells": [
  {
   "cell_type": "markdown",
   "metadata": {},
   "source": [
    "Kernel: We need to use the Python 3.9.7 from the Anaconda distribution."
   ]
  },
  {
   "cell_type": "markdown",
   "metadata": {},
   "source": [
    "#  **1. Import libraries**"
   ]
  },
  {
   "cell_type": "markdown",
   "metadata": {},
   "source": [
    "First, we need to import some libraries for data processing."
   ]
  },
  {
   "cell_type": "code",
   "execution_count": 14,
   "metadata": {},
   "outputs": [],
   "source": [
    "import pandas as pd\n",
    "import numpy as np\n",
    "import matplotlib.pyplot as plt\n",
    "plt.rcParams[\"figure.figsize\"] = (20,3) # Long plot"
   ]
  },
  {
   "cell_type": "markdown",
   "metadata": {},
   "source": [
    "* `pandas:` offers data structures and operations to manipulate numerical tables and time series.\n",
    "* `numpy:` offers a giant collection of high-level mathematical functions to operate on arrays and matrices.\n",
    "* `matplotlib:` offers an interactive visualization lile plotting graphs."
   ]
  },
  {
   "cell_type": "markdown",
   "metadata": {},
   "source": [
    "# **2. Data Collection**"
   ]
  },
  {
   "cell_type": "markdown",
   "metadata": {},
   "source": [
    "## ***2.1 Get raw data***"
   ]
  },
  {
   "cell_type": "markdown",
   "metadata": {},
   "source": [
    "Our data is stored in a CSV file."
   ]
  },
  {
   "cell_type": "code",
   "execution_count": 15,
   "metadata": {},
   "outputs": [
    {
     "data": {
      "text/html": [
       "<div>\n",
       "<style scoped>\n",
       "    .dataframe tbody tr th:only-of-type {\n",
       "        vertical-align: middle;\n",
       "    }\n",
       "\n",
       "    .dataframe tbody tr th {\n",
       "        vertical-align: top;\n",
       "    }\n",
       "\n",
       "    .dataframe thead th {\n",
       "        text-align: right;\n",
       "    }\n",
       "</style>\n",
       "<table border=\"1\" class=\"dataframe\">\n",
       "  <thead>\n",
       "    <tr style=\"text-align: right;\">\n",
       "      <th></th>\n",
       "      <th>STATION</th>\n",
       "      <th>DATE</th>\n",
       "      <th>LATITUDE</th>\n",
       "      <th>LONGITUDE</th>\n",
       "      <th>ELEVATION</th>\n",
       "      <th>NAME</th>\n",
       "      <th>AWND</th>\n",
       "      <th>AWND_ATTRIBUTES</th>\n",
       "      <th>CDSD</th>\n",
       "      <th>CDSD_ATTRIBUTES</th>\n",
       "      <th>...</th>\n",
       "      <th>WSF1</th>\n",
       "      <th>WSF1_ATTRIBUTES</th>\n",
       "      <th>WSF2</th>\n",
       "      <th>WSF2_ATTRIBUTES</th>\n",
       "      <th>WSF5</th>\n",
       "      <th>WSF5_ATTRIBUTES</th>\n",
       "      <th>WSFG</th>\n",
       "      <th>WSFG_ATTRIBUTES</th>\n",
       "      <th>WSFM</th>\n",
       "      <th>WSFM_ATTRIBUTES</th>\n",
       "    </tr>\n",
       "  </thead>\n",
       "  <tbody>\n",
       "    <tr>\n",
       "      <th>0</th>\n",
       "      <td>USW00013984</td>\n",
       "      <td>1886</td>\n",
       "      <td>39.55127</td>\n",
       "      <td>-97.65077</td>\n",
       "      <td>444.3</td>\n",
       "      <td>CONCORDIA ASOS, KS US</td>\n",
       "      <td>NaN</td>\n",
       "      <td>NaN</td>\n",
       "      <td>741.6</td>\n",
       "      <td>NaN</td>\n",
       "      <td>...</td>\n",
       "      <td>NaN</td>\n",
       "      <td>NaN</td>\n",
       "      <td>NaN</td>\n",
       "      <td>NaN</td>\n",
       "      <td>NaN</td>\n",
       "      <td>NaN</td>\n",
       "      <td>NaN</td>\n",
       "      <td>NaN</td>\n",
       "      <td>NaN</td>\n",
       "      <td>NaN</td>\n",
       "    </tr>\n",
       "    <tr>\n",
       "      <th>1</th>\n",
       "      <td>USW00013984</td>\n",
       "      <td>1887</td>\n",
       "      <td>39.55127</td>\n",
       "      <td>-97.65077</td>\n",
       "      <td>444.3</td>\n",
       "      <td>CONCORDIA ASOS, KS US</td>\n",
       "      <td>NaN</td>\n",
       "      <td>NaN</td>\n",
       "      <td>710.0</td>\n",
       "      <td>NaN</td>\n",
       "      <td>...</td>\n",
       "      <td>NaN</td>\n",
       "      <td>NaN</td>\n",
       "      <td>NaN</td>\n",
       "      <td>NaN</td>\n",
       "      <td>NaN</td>\n",
       "      <td>NaN</td>\n",
       "      <td>NaN</td>\n",
       "      <td>NaN</td>\n",
       "      <td>NaN</td>\n",
       "      <td>NaN</td>\n",
       "    </tr>\n",
       "    <tr>\n",
       "      <th>2</th>\n",
       "      <td>USW00013984</td>\n",
       "      <td>1888</td>\n",
       "      <td>39.55127</td>\n",
       "      <td>-97.65077</td>\n",
       "      <td>444.3</td>\n",
       "      <td>CONCORDIA ASOS, KS US</td>\n",
       "      <td>NaN</td>\n",
       "      <td>NaN</td>\n",
       "      <td>644.0</td>\n",
       "      <td>NaN</td>\n",
       "      <td>...</td>\n",
       "      <td>NaN</td>\n",
       "      <td>NaN</td>\n",
       "      <td>NaN</td>\n",
       "      <td>NaN</td>\n",
       "      <td>NaN</td>\n",
       "      <td>NaN</td>\n",
       "      <td>NaN</td>\n",
       "      <td>NaN</td>\n",
       "      <td>NaN</td>\n",
       "      <td>NaN</td>\n",
       "    </tr>\n",
       "    <tr>\n",
       "      <th>3</th>\n",
       "      <td>USW00013984</td>\n",
       "      <td>1889</td>\n",
       "      <td>39.55127</td>\n",
       "      <td>-97.65077</td>\n",
       "      <td>444.3</td>\n",
       "      <td>CONCORDIA ASOS, KS US</td>\n",
       "      <td>NaN</td>\n",
       "      <td>NaN</td>\n",
       "      <td>535.0</td>\n",
       "      <td>NaN</td>\n",
       "      <td>...</td>\n",
       "      <td>NaN</td>\n",
       "      <td>NaN</td>\n",
       "      <td>NaN</td>\n",
       "      <td>NaN</td>\n",
       "      <td>NaN</td>\n",
       "      <td>NaN</td>\n",
       "      <td>NaN</td>\n",
       "      <td>NaN</td>\n",
       "      <td>NaN</td>\n",
       "      <td>NaN</td>\n",
       "    </tr>\n",
       "    <tr>\n",
       "      <th>4</th>\n",
       "      <td>USW00013984</td>\n",
       "      <td>1890</td>\n",
       "      <td>39.55127</td>\n",
       "      <td>-97.65077</td>\n",
       "      <td>444.3</td>\n",
       "      <td>CONCORDIA ASOS, KS US</td>\n",
       "      <td>NaN</td>\n",
       "      <td>NaN</td>\n",
       "      <td>743.1</td>\n",
       "      <td>NaN</td>\n",
       "      <td>...</td>\n",
       "      <td>NaN</td>\n",
       "      <td>NaN</td>\n",
       "      <td>NaN</td>\n",
       "      <td>NaN</td>\n",
       "      <td>NaN</td>\n",
       "      <td>NaN</td>\n",
       "      <td>NaN</td>\n",
       "      <td>NaN</td>\n",
       "      <td>NaN</td>\n",
       "      <td>NaN</td>\n",
       "    </tr>\n",
       "    <tr>\n",
       "      <th>...</th>\n",
       "      <td>...</td>\n",
       "      <td>...</td>\n",
       "      <td>...</td>\n",
       "      <td>...</td>\n",
       "      <td>...</td>\n",
       "      <td>...</td>\n",
       "      <td>...</td>\n",
       "      <td>...</td>\n",
       "      <td>...</td>\n",
       "      <td>...</td>\n",
       "      <td>...</td>\n",
       "      <td>...</td>\n",
       "      <td>...</td>\n",
       "      <td>...</td>\n",
       "      <td>...</td>\n",
       "      <td>...</td>\n",
       "      <td>...</td>\n",
       "      <td>...</td>\n",
       "      <td>...</td>\n",
       "      <td>...</td>\n",
       "      <td>...</td>\n",
       "    </tr>\n",
       "    <tr>\n",
       "      <th>119</th>\n",
       "      <td>USW00013984</td>\n",
       "      <td>2018</td>\n",
       "      <td>39.55127</td>\n",
       "      <td>-97.65077</td>\n",
       "      <td>444.3</td>\n",
       "      <td>CONCORDIA ASOS, KS US</td>\n",
       "      <td>4.6</td>\n",
       "      <td>W</td>\n",
       "      <td>829.7</td>\n",
       "      <td>NaN</td>\n",
       "      <td>...</td>\n",
       "      <td>NaN</td>\n",
       "      <td>NaN</td>\n",
       "      <td>18.3</td>\n",
       "      <td>W</td>\n",
       "      <td>26.8</td>\n",
       "      <td>W</td>\n",
       "      <td>NaN</td>\n",
       "      <td>NaN</td>\n",
       "      <td>NaN</td>\n",
       "      <td>NaN</td>\n",
       "    </tr>\n",
       "    <tr>\n",
       "      <th>120</th>\n",
       "      <td>USW00013984</td>\n",
       "      <td>2019</td>\n",
       "      <td>39.55127</td>\n",
       "      <td>-97.65077</td>\n",
       "      <td>444.3</td>\n",
       "      <td>CONCORDIA ASOS, KS US</td>\n",
       "      <td>4.7</td>\n",
       "      <td>W</td>\n",
       "      <td>899.9</td>\n",
       "      <td>NaN</td>\n",
       "      <td>...</td>\n",
       "      <td>NaN</td>\n",
       "      <td>NaN</td>\n",
       "      <td>17.9</td>\n",
       "      <td>W</td>\n",
       "      <td>27.3</td>\n",
       "      <td>W</td>\n",
       "      <td>NaN</td>\n",
       "      <td>NaN</td>\n",
       "      <td>NaN</td>\n",
       "      <td>NaN</td>\n",
       "    </tr>\n",
       "    <tr>\n",
       "      <th>121</th>\n",
       "      <td>USW00013984</td>\n",
       "      <td>2020</td>\n",
       "      <td>39.55127</td>\n",
       "      <td>-97.65077</td>\n",
       "      <td>444.3</td>\n",
       "      <td>CONCORDIA ASOS, KS US</td>\n",
       "      <td>4.6</td>\n",
       "      <td>W</td>\n",
       "      <td>937.3</td>\n",
       "      <td>NaN</td>\n",
       "      <td>...</td>\n",
       "      <td>NaN</td>\n",
       "      <td>NaN</td>\n",
       "      <td>19.7</td>\n",
       "      <td>W</td>\n",
       "      <td>28.2</td>\n",
       "      <td>W</td>\n",
       "      <td>NaN</td>\n",
       "      <td>NaN</td>\n",
       "      <td>NaN</td>\n",
       "      <td>NaN</td>\n",
       "    </tr>\n",
       "    <tr>\n",
       "      <th>122</th>\n",
       "      <td>USW00013984</td>\n",
       "      <td>2021</td>\n",
       "      <td>39.55127</td>\n",
       "      <td>-97.65077</td>\n",
       "      <td>444.3</td>\n",
       "      <td>CONCORDIA ASOS, KS US</td>\n",
       "      <td>4.7</td>\n",
       "      <td>W</td>\n",
       "      <td>NaN</td>\n",
       "      <td>NaN</td>\n",
       "      <td>...</td>\n",
       "      <td>NaN</td>\n",
       "      <td>NaN</td>\n",
       "      <td>24.6</td>\n",
       "      <td>W</td>\n",
       "      <td>39.3</td>\n",
       "      <td>W</td>\n",
       "      <td>NaN</td>\n",
       "      <td>NaN</td>\n",
       "      <td>NaN</td>\n",
       "      <td>NaN</td>\n",
       "    </tr>\n",
       "    <tr>\n",
       "      <th>123</th>\n",
       "      <td>USW00013984</td>\n",
       "      <td>2022</td>\n",
       "      <td>39.55127</td>\n",
       "      <td>-97.65077</td>\n",
       "      <td>444.3</td>\n",
       "      <td>CONCORDIA ASOS, KS US</td>\n",
       "      <td>NaN</td>\n",
       "      <td>NaN</td>\n",
       "      <td>NaN</td>\n",
       "      <td>NaN</td>\n",
       "      <td>...</td>\n",
       "      <td>NaN</td>\n",
       "      <td>NaN</td>\n",
       "      <td>NaN</td>\n",
       "      <td>NaN</td>\n",
       "      <td>NaN</td>\n",
       "      <td>NaN</td>\n",
       "      <td>NaN</td>\n",
       "      <td>NaN</td>\n",
       "      <td>NaN</td>\n",
       "      <td>NaN</td>\n",
       "    </tr>\n",
       "  </tbody>\n",
       "</table>\n",
       "<p>124 rows × 106 columns</p>\n",
       "</div>"
      ],
      "text/plain": [
       "         STATION  DATE  LATITUDE  LONGITUDE  ELEVATION                   NAME  \\\n",
       "0    USW00013984  1886  39.55127  -97.65077      444.3  CONCORDIA ASOS, KS US   \n",
       "1    USW00013984  1887  39.55127  -97.65077      444.3  CONCORDIA ASOS, KS US   \n",
       "2    USW00013984  1888  39.55127  -97.65077      444.3  CONCORDIA ASOS, KS US   \n",
       "3    USW00013984  1889  39.55127  -97.65077      444.3  CONCORDIA ASOS, KS US   \n",
       "4    USW00013984  1890  39.55127  -97.65077      444.3  CONCORDIA ASOS, KS US   \n",
       "..           ...   ...       ...        ...        ...                    ...   \n",
       "119  USW00013984  2018  39.55127  -97.65077      444.3  CONCORDIA ASOS, KS US   \n",
       "120  USW00013984  2019  39.55127  -97.65077      444.3  CONCORDIA ASOS, KS US   \n",
       "121  USW00013984  2020  39.55127  -97.65077      444.3  CONCORDIA ASOS, KS US   \n",
       "122  USW00013984  2021  39.55127  -97.65077      444.3  CONCORDIA ASOS, KS US   \n",
       "123  USW00013984  2022  39.55127  -97.65077      444.3  CONCORDIA ASOS, KS US   \n",
       "\n",
       "     AWND AWND_ATTRIBUTES   CDSD  CDSD_ATTRIBUTES  ...  WSF1 WSF1_ATTRIBUTES  \\\n",
       "0     NaN             NaN  741.6              NaN  ...   NaN             NaN   \n",
       "1     NaN             NaN  710.0              NaN  ...   NaN             NaN   \n",
       "2     NaN             NaN  644.0              NaN  ...   NaN             NaN   \n",
       "3     NaN             NaN  535.0              NaN  ...   NaN             NaN   \n",
       "4     NaN             NaN  743.1              NaN  ...   NaN             NaN   \n",
       "..    ...             ...    ...              ...  ...   ...             ...   \n",
       "119   4.6               W  829.7              NaN  ...   NaN             NaN   \n",
       "120   4.7               W  899.9              NaN  ...   NaN             NaN   \n",
       "121   4.6               W  937.3              NaN  ...   NaN             NaN   \n",
       "122   4.7               W    NaN              NaN  ...   NaN             NaN   \n",
       "123   NaN             NaN    NaN              NaN  ...   NaN             NaN   \n",
       "\n",
       "     WSF2 WSF2_ATTRIBUTES  WSF5 WSF5_ATTRIBUTES  WSFG WSFG_ATTRIBUTES  WSFM  \\\n",
       "0     NaN             NaN   NaN             NaN   NaN             NaN   NaN   \n",
       "1     NaN             NaN   NaN             NaN   NaN             NaN   NaN   \n",
       "2     NaN             NaN   NaN             NaN   NaN             NaN   NaN   \n",
       "3     NaN             NaN   NaN             NaN   NaN             NaN   NaN   \n",
       "4     NaN             NaN   NaN             NaN   NaN             NaN   NaN   \n",
       "..    ...             ...   ...             ...   ...             ...   ...   \n",
       "119  18.3               W  26.8               W   NaN             NaN   NaN   \n",
       "120  17.9               W  27.3               W   NaN             NaN   NaN   \n",
       "121  19.7               W  28.2               W   NaN             NaN   NaN   \n",
       "122  24.6               W  39.3               W   NaN             NaN   NaN   \n",
       "123   NaN             NaN   NaN             NaN   NaN             NaN   NaN   \n",
       "\n",
       "     WSFM_ATTRIBUTES  \n",
       "0                NaN  \n",
       "1                NaN  \n",
       "2                NaN  \n",
       "3                NaN  \n",
       "4                NaN  \n",
       "..               ...  \n",
       "119              NaN  \n",
       "120              NaN  \n",
       "121              NaN  \n",
       "122              NaN  \n",
       "123              NaN  \n",
       "\n",
       "[124 rows x 106 columns]"
      ]
     },
     "execution_count": 15,
     "metadata": {},
     "output_type": "execute_result"
    }
   ],
   "source": [
    "data_dir = '../Data/USW00013984.csv'\n",
    "df = pd.read_csv(data_dir)\n",
    "df"
   ]
  },
  {
   "cell_type": "markdown",
   "metadata": {},
   "source": [
    "Then, we will get the precipitation data from the CSV file."
   ]
  },
  {
   "cell_type": "code",
   "execution_count": 16,
   "metadata": {},
   "outputs": [
    {
     "data": {
      "text/html": [
       "<div>\n",
       "<style scoped>\n",
       "    .dataframe tbody tr th:only-of-type {\n",
       "        vertical-align: middle;\n",
       "    }\n",
       "\n",
       "    .dataframe tbody tr th {\n",
       "        vertical-align: top;\n",
       "    }\n",
       "\n",
       "    .dataframe thead th {\n",
       "        text-align: right;\n",
       "    }\n",
       "</style>\n",
       "<table border=\"1\" class=\"dataframe\">\n",
       "  <thead>\n",
       "    <tr style=\"text-align: right;\">\n",
       "      <th></th>\n",
       "      <th>DATE</th>\n",
       "      <th>PRCP</th>\n",
       "    </tr>\n",
       "  </thead>\n",
       "  <tbody>\n",
       "    <tr>\n",
       "      <th>0</th>\n",
       "      <td>1886</td>\n",
       "      <td>718.0</td>\n",
       "    </tr>\n",
       "    <tr>\n",
       "      <th>1</th>\n",
       "      <td>1887</td>\n",
       "      <td>642.1</td>\n",
       "    </tr>\n",
       "    <tr>\n",
       "      <th>2</th>\n",
       "      <td>1888</td>\n",
       "      <td>590.4</td>\n",
       "    </tr>\n",
       "    <tr>\n",
       "      <th>3</th>\n",
       "      <td>1889</td>\n",
       "      <td>875.8</td>\n",
       "    </tr>\n",
       "    <tr>\n",
       "      <th>4</th>\n",
       "      <td>1890</td>\n",
       "      <td>448.7</td>\n",
       "    </tr>\n",
       "    <tr>\n",
       "      <th>...</th>\n",
       "      <td>...</td>\n",
       "      <td>...</td>\n",
       "    </tr>\n",
       "    <tr>\n",
       "      <th>119</th>\n",
       "      <td>2018</td>\n",
       "      <td>860.3</td>\n",
       "    </tr>\n",
       "    <tr>\n",
       "      <th>120</th>\n",
       "      <td>2019</td>\n",
       "      <td>884.5</td>\n",
       "    </tr>\n",
       "    <tr>\n",
       "      <th>121</th>\n",
       "      <td>2020</td>\n",
       "      <td>664.1</td>\n",
       "    </tr>\n",
       "    <tr>\n",
       "      <th>122</th>\n",
       "      <td>2021</td>\n",
       "      <td>585.9</td>\n",
       "    </tr>\n",
       "    <tr>\n",
       "      <th>123</th>\n",
       "      <td>2022</td>\n",
       "      <td>NaN</td>\n",
       "    </tr>\n",
       "  </tbody>\n",
       "</table>\n",
       "<p>124 rows × 2 columns</p>\n",
       "</div>"
      ],
      "text/plain": [
       "     DATE   PRCP\n",
       "0    1886  718.0\n",
       "1    1887  642.1\n",
       "2    1888  590.4\n",
       "3    1889  875.8\n",
       "4    1890  448.7\n",
       "..    ...    ...\n",
       "119  2018  860.3\n",
       "120  2019  884.5\n",
       "121  2020  664.1\n",
       "122  2021  585.9\n",
       "123  2022    NaN\n",
       "\n",
       "[124 rows x 2 columns]"
      ]
     },
     "execution_count": 16,
     "metadata": {},
     "output_type": "execute_result"
    }
   ],
   "source": [
    "prcp = df[['DATE', 'PRCP']]\n",
    "prcp"
   ]
  },
  {
   "cell_type": "markdown",
   "metadata": {},
   "source": [
    "From 1886 to 2022, there are 137 years. However, result from the code above contains only 124 rows. If we do not consider the year 2022, there are 12 missed rows. Let's find them."
   ]
  },
  {
   "cell_type": "code",
   "execution_count": 17,
   "metadata": {},
   "outputs": [
    {
     "name": "stdout",
     "output_type": "stream",
     "text": [
      "[1949, 1950, 1951, 1952, 1953, 1954, 1955, 1956, 1957, 1958, 1959, 1960, 1961, 1962, 2022]\n"
     ]
    }
   ],
   "source": [
    "is_available = []\n",
    "prcp_len = len(prcp)\n",
    "# print(prcp_len)\n",
    "beginning_year = int(prcp.iloc[0]['DATE'])\n",
    "# print(beginning_year)\n",
    "end_year = int(prcp.iloc[prcp_len - 1]['DATE'])\n",
    "# print(end_year)\n",
    "for i in range(beginning_year, end_year + 1, 1):\n",
    "    is_available.append(False)\n",
    "\n",
    "# print(len(is_available))\n",
    "\n",
    "for i in range(prcp_len):\n",
    "    if np.isnan(prcp.iloc[i]['PRCP']):\n",
    "        continue\n",
    "    is_available[int(prcp.iloc[i]['DATE']) - beginning_year] = True\n",
    "\n",
    "missing_years = []\n",
    "for i in range(len(is_available)):\n",
    "    if is_available[i] == False:\n",
    "        missing_years.append(i + beginning_year)\n",
    "\n",
    "print(missing_years)\n",
    "# len(missing_years)"
   ]
  },
  {
   "cell_type": "markdown",
   "metadata": {},
   "source": [
    "And now, we have 13 missing years from 1949 to 1961. Two years 1962 and 2022 have the NaN value."
   ]
  },
  {
   "cell_type": "markdown",
   "metadata": {},
   "source": [
    "We have to fill in missing cells."
   ]
  },
  {
   "cell_type": "code",
   "execution_count": 18,
   "metadata": {},
   "outputs": [
    {
     "name": "stdout",
     "output_type": "stream",
     "text": [
      "[718.0, 642.1, 590.4, 875.8, 448.7, 875.9, 715.7, 545.3, 695.0, 436.4, 846.5, 799.4, 516.5, 780.3, 648.8, 463.6, 894.9, 970.3, 859.6, 805.1, 505.8, 610.8, 1063.4, 827.5, 577.9, 619.7, 606.3, 609.5, 467.2, 953.2, 509.0, 388.2, 617.8, 667.8, 622.0, 483.2, 592.2, 773.1, 450.1, 553.1, 508.3, 763.3, 733.3, 665.4, 634.8, 674.9, 691.9, 508.6, 388.6, 852.2, 407.7, 469.7, 693.2, 505.8, 463.2, 773.5, 719.6, 612.0, 935.2, 729.2, 830.7, 607.3, 664.3, 0, 0, 0, 0, 0, 0, 0, 0, 0, 0, 0, 0, 0, 0, nan, 590.9, 727.0, 844.4, 385.2, 972.0, 762.4, 750.5, 725.6, 896.3, 831.3, 1128.4, 402.7, 638.3, 443.2, 896.1, 771.7, 675.2, 494.3, 856.1, 940.1, 650.4, 730.0, 654.6, 1021.0, 867.1, 369.7, 630.6, 652.3, 507.0, 1055.4, 1138.4, 487.1, 692.6, 720.0, 677.1, 836.3, 647.3, 460.9, 691.4, 457.7, 614.1, 624.2, 680.6, 608.7, 753.1, 849.2, 681.1, 815.2, 788.4, 610.0, 691.0, 691.6, 746.2, 763.0, 934.7, 860.3, 884.5, 664.1, 0]\n",
      "Begin:  63\n",
      "End:  77\n",
      "[718.0, 642.1, 590.4, 875.8, 448.7, 875.9, 715.7, 545.3, 695.0, 436.4, 846.5, 799.4, 516.5, 780.3, 648.8, 463.6, 894.9, 970.3, 859.6, 805.1, 505.8, 610.8, 1063.4, 827.5, 577.9, 619.7, 606.3, 609.5, 467.2, 953.2, 509.0, 388.2, 617.8, 667.8, 622.0, 483.2, 592.2, 773.1, 450.1, 553.1, 508.3, 763.3, 733.3, 665.4, 634.8, 674.9, 691.9, 508.6, 388.6, 852.2, 407.7, 469.7, 693.2, 505.8, 463.2, 773.5, 719.6, 612.0, 935.2, 729.2, 830.7, 607.3, 664.3, 635.8, 650.0, 642.9, 646.4, 644.6, 645.5, 645.0, 645.2, 645.1, 645.2, 645.2, 645.2, 645.2, 645.2, 645.2, 590.9, 727.0, 844.4, 385.2, 972.0, 762.4, 750.5, 725.6, 896.3, 831.3, 1128.4, 402.7, 638.3, 443.2, 896.1, 771.7, 675.2, 494.3, 856.1, 940.1, 650.4, 730.0, 654.6, 1021.0, 867.1, 369.7, 630.6, 652.3, 507.0, 1055.4, 1138.4, 487.1, 692.6, 720.0, 677.1, 836.3, 647.3, 460.9, 691.4, 457.7, 614.1, 624.2, 680.6, 608.7, 753.1, 849.2, 681.1, 815.2, 788.4, 610.0, 691.0, 691.6, 746.2, 763.0, 934.7, 860.3, 884.5, 664.1, 0]\n"
     ]
    }
   ],
   "source": [
    "# we don't check the condition because we have the data about missing years\n",
    "def fill_missing(data_list, begin, end):\n",
    "    print(\"Begin: \", begin)\n",
    "    print(\"End: \", end)\n",
    "    for i in range(begin, end + 1, 1):\n",
    "        sum = 0\n",
    "        for j in range(i - 2, i, 1):\n",
    "            sum += data_list[j]\n",
    "        data_list[i] = round(sum / 2, 1)\n",
    "\n",
    "begin_missing_year = missing_years[0]\n",
    "end_missing_year = missing_years[len(missing_years) - 2]\n",
    "\n",
    "years = []\n",
    "for i in range(beginning_year, end_year + 1, 1):\n",
    "    years.append(i)\n",
    "\n",
    "values = []\n",
    "for i in range(beginning_year, begin_missing_year, 1):\n",
    "    values.append(prcp.iloc[i - beginning_year]['PRCP'])\n",
    "for i in range(begin_missing_year, end_missing_year + 1, 1):\n",
    "    values.append(0)\n",
    "number_of_missing_years = end_missing_year + 1 - begin_missing_year\n",
    "for i in range(end_missing_year + 1, end_year, 1):\n",
    "    values.append(prcp.iloc[i - beginning_year - number_of_missing_years]['PRCP'])\n",
    "values.append(0) # for the year 2022, but not necessary at all\n",
    "\n",
    "# print(years)\n",
    "# print(len(years))\n",
    "print(values)\n",
    "# print(len(values))\n",
    "\n",
    "fill_missing(values, begin_missing_year - beginning_year, end_missing_year - beginning_year + 1)\n",
    "print(values)"
   ]
  },
  {
   "cell_type": "code",
   "execution_count": 19,
   "metadata": {},
   "outputs": [
    {
     "name": "stdout",
     "output_type": "stream",
     "text": [
      "[1886, 1887, 1888, 1889, 1890, 1891, 1892, 1893, 1894, 1895, 1896, 1897, 1898, 1899, 1900, 1901, 1902, 1903, 1904, 1905, 1906, 1907, 1908, 1909, 1910, 1911, 1912, 1913, 1914, 1915, 1916, 1917, 1918, 1919, 1920, 1921, 1922, 1923, 1924, 1925, 1926, 1927, 1928, 1929, 1930, 1931, 1932, 1933, 1934, 1935, 1936, 1937, 1938, 1939, 1940, 1941, 1942, 1943, 1944, 1945, 1946, 1947, 1948, 1949, 1950, 1951, 1952, 1953, 1954, 1955, 1956, 1957, 1958, 1959, 1960, 1961, 1962, 1963, 1964, 1965, 1966, 1967, 1968, 1969, 1970, 1971, 1972, 1973, 1974, 1975, 1976, 1977, 1978, 1979, 1980, 1981, 1982, 1983, 1984, 1985, 1986, 1987, 1988, 1989, 1990, 1991, 1992, 1993, 1994, 1995, 1996, 1997, 1998, 1999, 2000, 2001, 2002, 2003, 2004, 2005, 2006, 2007, 2008, 2009, 2010, 2011, 2012, 2013, 2014, 2015, 2016, 2017, 2018, 2019, 2020, 2021]\n",
      "[718.0, 642.1, 590.4, 875.8, 448.7, 875.9, 715.7, 545.3, 695.0, 436.4, 846.5, 799.4, 516.5, 780.3, 648.8, 463.6, 894.9, 970.3, 859.6, 805.1, 505.8, 610.8, 1063.4, 827.5, 577.9, 619.7, 606.3, 609.5, 467.2, 953.2, 509.0, 388.2, 617.8, 667.8, 622.0, 483.2, 592.2, 773.1, 450.1, 553.1, 508.3, 763.3, 733.3, 665.4, 634.8, 674.9, 691.9, 508.6, 388.6, 852.2, 407.7, 469.7, 693.2, 505.8, 463.2, 773.5, 719.6, 612.0, 935.2, 729.2, 830.7, 607.3, 664.3, 635.8, 650.0, 642.9, 646.4, 644.6, 645.5, 645.0, 645.2, 645.1, 645.2, 645.2, 645.2, 645.2, 645.2, 645.2, 590.9, 727.0, 844.4, 385.2, 972.0, 762.4, 750.5, 725.6, 896.3, 831.3, 1128.4, 402.7, 638.3, 443.2, 896.1, 771.7, 675.2, 494.3, 856.1, 940.1, 650.4, 730.0, 654.6, 1021.0, 867.1, 369.7, 630.6, 652.3, 507.0, 1055.4, 1138.4, 487.1, 692.6, 720.0, 677.1, 836.3, 647.3, 460.9, 691.4, 457.7, 614.1, 624.2, 680.6, 608.7, 753.1, 849.2, 681.1, 815.2, 788.4, 610.0, 691.0, 691.6, 746.2, 763.0, 934.7, 860.3, 884.5, 664.1]\n",
      "     Year  Precipitation\n",
      "0    1886          718.0\n",
      "1    1887          642.1\n",
      "2    1888          590.4\n",
      "3    1889          875.8\n",
      "4    1890          448.7\n",
      "..    ...            ...\n",
      "131  2017          763.0\n",
      "132  2018          934.7\n",
      "133  2019          860.3\n",
      "134  2020          884.5\n",
      "135  2021          664.1\n",
      "\n",
      "[136 rows x 2 columns]\n"
     ]
    }
   ],
   "source": [
    "years = years[0:len(years) - 1]\n",
    "values = values[0:len(values) - 1]\n",
    "print(years)\n",
    "print(values)\n",
    "\n",
    "data = {'Year': years, 'Precipitation': values}\n",
    "data_frame = pd.DataFrame.from_dict(data)\n",
    "print(data_frame)\n",
    "\n",
    "data_frame.to_csv(\"data.csv\")"
   ]
  },
  {
   "cell_type": "code",
   "execution_count": 20,
   "metadata": {},
   "outputs": [],
   "source": [
    "df = pd.read_csv(\"./data.csv\")"
   ]
  },
  {
   "cell_type": "code",
   "execution_count": 21,
   "metadata": {},
   "outputs": [
    {
     "name": "stdout",
     "output_type": "stream",
     "text": [
      "[ 718.   642.1  590.4  875.8  448.7  875.9  715.7  545.3  695.   436.4\n",
      "  846.5  799.4  516.5  780.3  648.8  463.6  894.9  970.3  859.6  805.1\n",
      "  505.8  610.8 1063.4  827.5  577.9  619.7  606.3  609.5  467.2  953.2\n",
      "  509.   388.2  617.8  667.8  622.   483.2  592.2  773.1  450.1  553.1\n",
      "  508.3  763.3  733.3  665.4  634.8  674.9  691.9  508.6  388.6  852.2\n",
      "  407.7  469.7  693.2  505.8  463.2  773.5  719.6  612.   935.2  729.2\n",
      "  830.7  607.3  664.3  635.8  650.   642.9  646.4  644.6  645.5  645.\n",
      "  645.2  645.1  645.2  645.2  645.2  645.2  645.2  645.2  590.9  727.\n",
      "  844.4  385.2  972.   762.4  750.5  725.6  896.3  831.3 1128.4  402.7\n",
      "  638.3  443.2  896.1  771.7  675.2  494.3  856.1  940.1  650.4  730.\n",
      "  654.6 1021.   867.1  369.7  630.6  652.3  507.  1055.4 1138.4  487.1\n",
      "  692.6  720.   677.1  836.3  647.3  460.9  691.4  457.7  614.1  624.2\n",
      "  680.6  608.7  753.1  849.2  681.1  815.2  788.4  610.   691.   691.6\n",
      "  746.2  763.   934.7  860.3  884.5  664.1]\n"
     ]
    }
   ],
   "source": [
    "prec_data =(df.loc[:, \"Precipitation\"].to_numpy())\n",
    "print(prec_data)"
   ]
  },
  {
   "cell_type": "code",
   "execution_count": 22,
   "metadata": {},
   "outputs": [
    {
     "name": "stdout",
     "output_type": "stream",
     "text": [
      "Mode: [645.2]\n"
     ]
    }
   ],
   "source": [
    "from scipy import stats\n",
    "mode = stats.mode(prec_data)[0]\n",
    "print(f\"Mode: {mode}\")"
   ]
  },
  {
   "cell_type": "code",
   "execution_count": 23,
   "metadata": {},
   "outputs": [
    {
     "name": "stdout",
     "output_type": "stream",
     "text": [
      "Mean: 684.3316176470589\n"
     ]
    }
   ],
   "source": [
    "mean = np.mean(prec_data)\n",
    "print(f\"Mean: {mean}\")"
   ]
  },
  {
   "cell_type": "code",
   "execution_count": 24,
   "metadata": {},
   "outputs": [
    {
     "data": {
      "text/plain": [
       "(array([ 8., 18.,  6., 43., 21., 13., 16.,  6.,  2.,  3.]),\n",
       " array([ 369.7 ,  446.57,  523.44,  600.31,  677.18,  754.05,  830.92,\n",
       "         907.79,  984.66, 1061.53, 1138.4 ]),\n",
       " <BarContainer object of 10 artists>)"
      ]
     },
     "execution_count": 24,
     "metadata": {},
     "output_type": "execute_result"
    },
    {
     "data": {
      "image/png": "[encoded data removed]",
      "text/plain": [
       "<Figure size 1440x216 with 1 Axes>"
      ]
     },
     "metadata": {
      "needs_background": "light"
     },
     "output_type": "display_data"
    }
   ],
   "source": [
    "plt.hist(prec_data) # histogram"
   ]
  },
  {
   "cell_type": "code",
   "execution_count": 25,
   "metadata": {},
   "outputs": [
    {
     "data": {
      "text/plain": [
       "[<matplotlib.lines.Line2D at 0x21c99518370>]"
      ]
     },
     "execution_count": 25,
     "metadata": {},
     "output_type": "execute_result"
    },
    {
     "data": {
      "image/png": "[encoded data removed]",
      "text/plain": [
       "<Figure size 1440x216 with 1 Axes>"
      ]
     },
     "metadata": {
      "needs_background": "light"
     },
     "output_type": "display_data"
    }
   ],
   "source": [
    "year = (df.loc[:, \"Year\"].to_numpy())\n",
    "plt.plot(year, prec_data) # line"
   ]
  },
  {
   "cell_type": "code",
   "execution_count": 26,
   "metadata": {},
   "outputs": [
    {
     "data": {
      "text/plain": [
       "<matplotlib.collections.PathCollection at 0x21c995756d0>"
      ]
     },
     "execution_count": 26,
     "metadata": {},
     "output_type": "execute_result"
    },
    {
     "data": {
      "image/png": "[encoded data removed]",
      "text/plain": [
       "<Figure size 1440x216 with 1 Axes>"
      ]
     },
     "metadata": {
      "needs_background": "light"
     },
     "output_type": "display_data"
    }
   ],
   "source": [
    "plt.rcParams[\"figure.figsize\"] = (20,3)\n",
    "plt.scatter(year, prec_data, linewidths=0.5) # scatter"
   ]
  }
 ],
 "metadata": {
  "interpreter": {
   "hash": "2e918aaa81d99c652401bdd1a0c185581595fb477ac919641bd65261b5d7782a"
  },
  "kernelspec": {
   "display_name": "Python 3 (ipykernel)",
   "language": "python",
   "name": "python3"
  },
  "language_info": {
   "codemirror_mode": {
    "name": "ipython",
    "version": 3
   },
   "file_extension": ".py",
   "mimetype": "text/x-python",
   "name": "python",
   "nbconvert_exporter": "python",
   "pygments_lexer": "ipython3",
   "version": "3.9.7"
  }
 },
 "nbformat": 4,
 "nbformat_minor": 2
}
