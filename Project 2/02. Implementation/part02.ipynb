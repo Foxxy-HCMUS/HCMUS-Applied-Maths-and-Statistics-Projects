{
 "cells": [
  {
   "cell_type": "markdown",
   "metadata": {},
   "source": [
    "# 1. Cài đặt thuật toán tiến trước, thuật toán Viterbi, và thuật toán Baum-Welch."
   ]
  },
  {
   "cell_type": "code",
   "execution_count": 642,
   "metadata": {},
   "outputs": [],
   "source": [
    "import numpy as np\n",
    "import pandas as pd\n",
    "import random as rd"
   ]
  },
  {
   "cell_type": "markdown",
   "metadata": {},
   "source": [
    "## 1.1. Thuật toán tiến trước"
   ]
  },
  {
   "cell_type": "code",
   "execution_count": 643,
   "metadata": {},
   "outputs": [
    {
     "name": "stdout",
     "output_type": "stream",
     "text": [
      "0.028562000000000008\n",
      "[[0.02     0.069    0.005066]\n",
      " [0.32     0.0404   0.023496]]\n"
     ]
    }
   ],
   "source": [
    "''' The forward algorithm: \n",
    "Given an HMM with:\n",
    "transition probability table A and emission probability table (observation ikelihood) B \n",
    "return the probability (likelihood) of a observation sequence O'''\n",
    "\n",
    "# all the variables in this function are np.arrays\n",
    "def forward_algorithm(observation, transition_prob, emission_prob, initial_distribution, vocabulary):\n",
    "    'observations has length of T, the number of different states N'\n",
    "    # create a probability matrix alpha\n",
    "    T = observation.shape[0]\n",
    "    N = transition_prob.shape[0]\n",
    "    alpha = np.zeros((N, T))\n",
    "    \n",
    "    # initialization\n",
    "    id = np.where(vocabulary == observation[0]) # get the index of the first observation in the vocabulary\n",
    "\n",
    "    alpha[: , 0] = initial_distribution * emission_prob[:, id[0][0]]\n",
    "\n",
    "    # recursion\n",
    "    for i in range(1, T):\n",
    "        id = np.where(vocabulary == observation[i])\n",
    "        for j in range(N):\n",
    "            alpha[j, i] = alpha[:, i - 1].dot(transition_prob[:, j]) * emission_prob[j, id[0][0]]\n",
    "\n",
    "    # termination\n",
    "    forward_prob = np.sum(alpha[:, T - 1])\n",
    "    return (forward_prob, alpha)\n",
    "\n",
    "\n",
    "obs = np.array((3, 1, 3))\n",
    "trans = np.array([[.5, .5], [.4, .6]])\n",
    "ems = np.array([[.5, .4, .1], [.2, .4, .4]])\n",
    "ini = np.array((.2, .8))\n",
    "vcb = np.array((1, 2, 3))\n",
    "\n",
    "fp, alpha = forward_algorithm(obs, trans, ems, ini, vcb)\n",
    "print(fp)\n",
    "print(alpha)"
   ]
  },
  {
   "cell_type": "markdown",
   "metadata": {},
   "source": [
    "## 1.2. Thuật toán Viterbi"
   ]
  },
  {
   "cell_type": "code",
   "execution_count": 644,
   "metadata": {},
   "outputs": [
    {
     "name": "stdout",
     "output_type": "stream",
     "text": [
      "[1 0 1]\n"
     ]
    }
   ],
   "source": [
    "'''Viterbi algorithm:\n",
    "Given an HMM with:\n",
    "transition probability table A and emission probability table (observation ikelihood) B \n",
    "a sequence of observations O\n",
    "find the most sequence of states Q\n",
    "'''\n",
    "def viterbi_algorithm(observation, transition_prob, emission_prob, initial_distribution, vocabulary):\n",
    "    T = observation.shape[0]\n",
    "    N = transition_prob.shape[0]\n",
    "    omega = np.zeros((N, T))\n",
    "    \n",
    "    # initialization\n",
    "    id = np.where(vocabulary == observation[0])\n",
    "    \n",
    "    omega[:, 0] = initial_distribution * emission_prob[:, id[0][0]] # initialize the same as the forward algorithm\n",
    "\n",
    "    prev = np.zeros((N, T))\n",
    "    prev[:, 0] = 0\n",
    "\n",
    "    temp = np.zeros(N)\n",
    "\n",
    "    # recursion\n",
    "    for i in range(1, T):\n",
    "        # find the index of the observation in the vocabulary\n",
    "        id = np.where(vocabulary == observation[i])\n",
    "        for j in range(N):    \n",
    "            # the same as forward probability\n",
    "            for k in range(N):\n",
    "                temp[k] = omega[k, i - 1] * transition_prob[k, j] * emission_prob[j, id[0][0]]\n",
    "                \n",
    "            # the most probable state given previous state at time i    (1)\n",
    "            prev[j, i] = np.argmax(temp)\n",
    "\n",
    "            # the probability of the most probable state                (2)\n",
    "            omega[j, i] = np.max(temp)\n",
    "\n",
    "    # print(omega)\n",
    "\n",
    "    # termination\n",
    "    best_path_prob = np.max(omega[:, T - 1])\n",
    "\n",
    "    # path array: the most probable sequence of states for the observations sequence.\n",
    "    path = np.zeros(T, dtype= int)\n",
    "\n",
    "    # the most probable state at the last time step\n",
    "    path[T - 1] = int(np.argmax(omega[:, T - 1]))\n",
    "\n",
    "    # backtracking\n",
    "    for i in range(T - 2, -1, -1):\n",
    "        path[i] = int(prev[path[i + 1], i + 1])\n",
    "\n",
    "    return (path)\n",
    "\n",
    "print(viterbi_algorithm(obs, trans, ems, ini, vcb))"
   ]
  },
  {
   "cell_type": "markdown",
   "metadata": {},
   "source": [
    "## 1.3. Thuật toán Baum - Welch"
   ]
  },
  {
   "cell_type": "code",
   "execution_count": 645,
   "metadata": {},
   "outputs": [
    {
     "name": "stdout",
     "output_type": "stream",
     "text": [
      "0.028562000000000008\n",
      "[[0.0905 0.25   1.    ]\n",
      " [0.0836 0.28   1.    ]]\n"
     ]
    }
   ],
   "source": [
    "# backward probability\n",
    "def backward_algorithm(observation, transition_prob, emission_prob, initial_distribution, vocabulary):\n",
    "    # initialization\n",
    "    T = observation.shape[0]\n",
    "    N = transition_prob.shape[0]\n",
    "    beta = np.zeros((N, T))\n",
    "\n",
    "    # initialization\n",
    "    for i in range(N):\n",
    "        beta[i, T - 1] = 1\n",
    "    \n",
    "    # recursion\n",
    "    for t in range(T - 2, -1, -1):\n",
    "        for i in range(N):\n",
    "            # find the index of the (t + 1)-th observation\n",
    "            id = np.where(vocabulary == observation[t + 1])\n",
    "            beta[i, t] = 0\n",
    "\n",
    "            for j in range(N):\n",
    "                beta[i, t] = beta[i, t] + transition_prob[i, j] * emission_prob[j, id[0][0]] * beta[j, t + 1]\n",
    "    \n",
    "    # termination\n",
    "    id = np.where(vocabulary == observation[0])\n",
    "\n",
    "    backward_prob = 0\n",
    "    for k in range(N):\n",
    "        backward_prob = backward_prob + initial_distribution[k] * emission_prob[k, id[0][0]] * beta[k, 0]\n",
    "    \n",
    "    return (backward_prob, beta)\n",
    "\n",
    "bp, beta = backward_algorithm(obs, trans, ems, ini, vcb)\n",
    "print(bp)\n",
    "print(beta)"
   ]
  },
  {
   "cell_type": "code",
   "execution_count": 646,
   "metadata": {},
   "outputs": [
    {
     "name": "stdout",
     "output_type": "stream",
     "text": [
      "[[6.14488788e-164 1.00000000e+000]\n",
      " [1.00000000e+000 0.00000000e+000]]\n",
      "[[1.00000000e+000 0.00000000e+000 1.22897758e-164 0.00000000e+000\n",
      "  0.00000000e+000 0.00000000e+000]\n",
      " [2.74756230e-307 0.00000000e+000 1.00000000e+000 0.00000000e+000\n",
      "  0.00000000e+000 0.00000000e+000]]\n"
     ]
    }
   ],
   "source": [
    "# baum-welch algorithm: from the observation sequence O and the set of possible states in the HMM, learn the HMM parameters A (alpha) and B (beta)\n",
    "def baum_welch_algorithm(observation, initial_distribution, vocabulary, n_iter=1000):\n",
    "    T = observation.shape[0]\n",
    "    N = initial_distribution.shape[0]\n",
    "    K = vocabulary.shape[0]\n",
    "\n",
    "    # initialize A and B\n",
    "    A = np.random.rand(N, N)\n",
    "    A = A/np.sum(A, axis=1).reshape((-1, 1))\n",
    "    # print(A)\n",
    "    B = np.random.rand(N, K)\n",
    "    B = B/np.sum(B, axis=1).reshape((-1, 1))\n",
    "    # print(B)\n",
    "    \n",
    "    gamma = np.zeros((N, T))\n",
    "    xi = np.zeros((N, N, T - 1))\n",
    "\n",
    "    for n in range(n_iter):\n",
    "        (f_pr, alpha) = forward_algorithm(observation, A, B, initial_distribution, vocabulary)\n",
    "        (b_pr, beta) = backward_algorithm(observation, A, B, initial_distribution, vocabulary)\n",
    "        \n",
    "        # E - step\n",
    "        for t in range(T - 1):\n",
    "            id = np.where(vocabulary == observation[t + 1])\n",
    "            index = id[0][0]\n",
    "            \n",
    "            den = np.dot(alpha[:, t], beta[:, t])\n",
    "            gamma[:, t] = alpha[:, t] * beta[:, t]/den\n",
    "            \n",
    "            for i in range (N):\n",
    "                for j in range(N):\n",
    "                    xi[i, j, t] = alpha[i, t] * beta[j, t + 1] * A[i, j] * B[j, index]/den\n",
    "        \n",
    "        # M - step            \n",
    "        A = np.sum(xi, axis=2)/np.sum(xi, axis=(1,2)).reshape((-1, 1))\n",
    "        \n",
    "        for v in range(K):\n",
    "            B[:, v] = np.sum(gamma[:, observation == vocabulary[v]], axis=1)\n",
    "        \n",
    "        B = B/np.sum(gamma, axis=1).reshape((-1, 1))\n",
    "\n",
    "    return (A, B)\n",
    "\n",
    "a, b = baum_welch_algorithm(obs, ini, vocab, 15)\n",
    "print(a)\n",
    "print(b)"
   ]
  },
  {
   "cell_type": "markdown",
   "metadata": {},
   "source": [
    "# 2. Bài toán: \n",
    "Khi làm quản trò, anh Huy thường sử dụng 2 viên xúc xác khác nhau. Viên đầu tiên là một viên xúc xắc cân bằng, mọi mặt đều có cùng xác suất. Viên thứ hai là một viên xúc xắc lỗi, khi tung sẽ có 50% xác suất ra mặt số 6 và 10% xác suất ra mỗi mặt còn lại. Mỗi lần tung, anh sẽ chọn 1 trong 2 viên xúc xắc này để tung. Người chơi không thể biết anh đã tung viên nào, chỉ biết được lần tung đó ra mặt nào. Ngoài ra, nếu ở lần tung này, anh Huy sử dụng viên xúc xắc cân bằng, thì có 80% khả năng anh sẽ tiếp tục sử dụng viên xúc xắc này cho lần tung tiếp theo (20% còn lại anh sẽ đổi sang dùng viên lỗi). Con số này là 30% đối với viên lỗi (70% đổi sang dùng viên cân bằng)"
   ]
  },
  {
   "cell_type": "markdown",
   "metadata": {},
   "source": [
    "### a) Mô hình hóa tình huống trên bằng một mô hình Markov ẩn. Cho biết các tham số của mô hình này.\n",
    "Mô hình Markov ẩn được xây dựng:\n",
    "- Tập trạng thái $$Q = \\{q_0: cân bằng, q_1: lỗi\\}$$.\n",
    "- Ma trận chuyển trạng thái $$A = \\begin{bmatrix}0.8&0.2\\\\0.7&0.3\\\\\\end{bmatrix}$$ ($a_{00} = 0.8, a_{01} = 0.2, a_{10} = 0.7, a_{11} = 0.3$).\n",
    "- Tập quan sát O gồm các trạng thái được lấy từ tập $V = \\{1, 2, 3, 4, 5, 6\\}$.\n",
    "- Ma trận B (các giá trị observation likelihoods): \n",
    "$$B = \\begin{bmatrix}1/6 & 1/6 & 1/6 & 1/6 & 1/6 & 1/6\\\\0.1 & 0.1 & 0.1 & 0.1 & 0.1 & 0.5\\\\\\end{bmatrix}$$\n",
    "($b_{0}(i) = P(i|q_0) = 1/6, \\forall i \\in\\{1,2,3,4,5,6\\}; b_{1}(i) = P(i|q_1) = 0.1, \\forall i \\in\\{1,2,3,4,5\\}, b_1(6) = P(6|q_1) = 0.5$).\n",
    "- Phân phối ban đầu $\\pi = [0.5, 0.5]$."
   ]
  },
  {
   "cell_type": "markdown",
   "metadata": {},
   "source": [
    "### b) Sinh ngẫu nhiên một chuỗi T = 100 lần tung theo đúng mô tả trên."
   ]
  },
  {
   "cell_type": "code",
   "execution_count": 647,
   "metadata": {},
   "outputs": [
    {
     "name": "stdout",
     "output_type": "stream",
     "text": [
      "Observation sequence:  [5 3 1 4 2 5 6 5 1 5 6 6 5 3 4 5 1 3 3 4 2 1 5 4 3 2 4 4 4 6 6 4 6 3 4 4 5\n",
      " 4 5 3 3 5 3 1 3 4 1 6 4 3 2 6 3 2 2 4 1 3 3 4 5 3 6 2 1 2 6 6 3 6 1 6 1 2\n",
      " 2 2 2 6 1 3 4 3 6 5 4 2 1 5 1 3 6 6 2 1 6 4 3 6 6 3]\n"
     ]
    }
   ],
   "source": [
    "'A is the transition probability matrix'\n",
    "A = [[0.8, 0.2], [0.7, 0.3]]\n",
    "\n",
    "'B is the observation likelihoods matrix'\n",
    "B = [[1/6, 1/6, 1/6, 1/6, 1/6, 1/6],[.1, .1, .1, .1, .1, .5]]\n",
    "\n",
    "'D is the number on the faces of the dice'\n",
    "D = [1,2,3,4,5,6]\n",
    "\n",
    "'initial distribution'\n",
    "Pi = np.array((0.5, 0.5))\n",
    "\n",
    "def generate(T: int):\n",
    "    dice = rd.choice([0,1])     # choose a random dice with equal probability 0.5\n",
    "    res = list()                # list of observations\n",
    "    dices = list()              # hidden states\n",
    "    for i in range(0, T):\n",
    "        dices.append(dice)\n",
    "        temp1 = rd.choices(D, B[dice])\n",
    "        res.append(temp1[0])\n",
    "        temp2 = rd.choices([0,1], A[dice])\n",
    "        dice = temp2[0]\n",
    "    # print('Hidden states: ', dices)\n",
    "    return res\n",
    "\n",
    "'Generate a sequence of T = 100 observations'\n",
    "obs = np.array(generate(100))   # observation seq.\n",
    "trans = np.array(A)  # transition prob.\n",
    "emiss = np.array(B)  # emission prob.\n",
    "vocab = np.array(D)  # vocabulary\n",
    "print('Observation sequence: ', obs)"
   ]
  },
  {
   "cell_type": "markdown",
   "metadata": {},
   "source": [
    "### c) Sử dụng thuật toán Viterbi để dự đoán viên xúc xắc được dùng cho mỗi lần tung. Độ chính xác của dự đoán này là bao nhiêu? Hãy lặp lại thí nghiệm này nhiều lần nếu cần thiết. Báo cáo và nhận xét kết quả thu được."
   ]
  },
  {
   "cell_type": "code",
   "execution_count": 648,
   "metadata": {},
   "outputs": [
    {
     "name": "stdout",
     "output_type": "stream",
     "text": [
      "[0 0 0 0 0 0 0 0 0 0 0 0 0 0 0 0 0 0 0 0 0 0 0 0 0 0 0 0 0 0 0 0 0 0 0 0 0\n",
      " 0 0 0 0 0 0 0 0 0 0 0 0 0 0 0 0 0 0 0 0 0 0 0 0 0 0 0 0 0 0 0 0 0 0 0 0 0\n",
      " 0 0 0 0 0 0 0 0 0 0 0 0 0 0 0 0 0 0 0 0 0 0 0 0 0 0]\n"
     ]
    }
   ],
   "source": [
    "state_guess = viterbi_algorithm(obs, trans, emiss, Pi, vocab)\n",
    "print(state_guess)"
   ]
  },
  {
   "cell_type": "markdown",
   "metadata": {},
   "source": [
    "### d) Giả sử bạn là một người chơi, hãy sử dụng thuật toán Baum-Welch để ước lượng các tham số cho mô hình Markov ẩn. Hãy lặp lại thí nghiệm nhiều lần nếu cần thiết. Báo cáo và nhận xét kết quả thu được."
   ]
  },
  {
   "cell_type": "code",
   "execution_count": 649,
   "metadata": {},
   "outputs": [
    {
     "name": "stdout",
     "output_type": "stream",
     "text": [
      "alpha =  [[0.89565711 0.10434289]\n",
      " [0.02509105 0.97490895]]\n",
      "beta =  [[2.07610677e-001 3.56830249e-001 8.75909039e-002 2.11266682e-220\n",
      "  0.00000000e+000 3.47968170e-001]\n",
      " [1.26045178e-001 9.14006133e-002 2.28587449e-001 2.24031222e-001\n",
      "  1.61800327e-001 1.68135211e-001]]\n"
     ]
    }
   ],
   "source": [
    "alpha, beta = baum_welch_algorithm(obs, Pi, vocab)\n",
    "print('alpha = ', alpha)\n",
    "print('beta = ', beta)"
   ]
  }
 ],
 "metadata": {
  "interpreter": {
   "hash": "5ae58900cfbb8c43ab3495913814b7cf26024f51651a94ce8bf64d6111688e8d"
  },
  "kernelspec": {
   "display_name": "Python 3.9.7 ('base')",
   "language": "python",
   "name": "python3"
  },
  "language_info": {
   "codemirror_mode": {
    "name": "ipython",
    "version": 3
   },
   "file_extension": ".py",
   "mimetype": "text/x-python",
   "name": "python",
   "nbconvert_exporter": "python",
   "pygments_lexer": "ipython3",
   "version": "3.9.7"
  },
  "orig_nbformat": 4
 },
 "nbformat": 4,
 "nbformat_minor": 2
}
