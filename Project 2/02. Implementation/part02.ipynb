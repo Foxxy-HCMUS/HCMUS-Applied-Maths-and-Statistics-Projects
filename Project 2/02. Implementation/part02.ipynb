{
 "cells": [
  {
   "cell_type": "markdown",
   "metadata": {},
   "source": [
    "# 1. Cài đặt thuật toán tiến trước, thuật toán Viterbi, và thuật toán Baum-Welch."
   ]
  },
  {
   "cell_type": "code",
   "execution_count": 299,
   "metadata": {},
   "outputs": [],
   "source": [
    "import numpy as np\n",
    "import pandas as pd\n",
    "import random as rd"
   ]
  },
  {
   "cell_type": "markdown",
   "metadata": {},
   "source": [
    "## 1.1. Thuật toán tiến trước"
   ]
  },
  {
   "cell_type": "markdown",
   "metadata": {},
   "source": [
    "[https://github.com/adeveloperdiary/HiddenMarkovModel/blob/master/part2/forward.py](https://github.com/adeveloperdiary/HiddenMarkovModel/blob/master/part2/forward.py)"
   ]
  },
  {
   "cell_type": "code",
   "execution_count": 300,
   "metadata": {},
   "outputs": [
    {
     "name": "stdout",
     "output_type": "stream",
     "text": [
      "0.028562000000000008\n",
      "[[0.02     0.069    0.005066]\n",
      " [0.32     0.0404   0.023496]]\n"
     ]
    }
   ],
   "source": [
    "''' The forward algorithm: \n",
    "Given an HMM with:\n",
    "transition probability table A and emission probability table (observation ikelihood) B \n",
    "return the probability (likelihood) of a observation sequence O'''\n",
    "\n",
    "# all the variables in this function are np.arrays\n",
    "def forward_algorithm(observation, transition_prob, emission_prob, initial_distribution, vocabulary):\n",
    "    'observations has length of T, the number of different states N'\n",
    "    # create a probability matrix alpha\n",
    "    T = observation.shape[0]\n",
    "    N = transition_prob.shape[0]\n",
    "    alpha = np.zeros((N, T))\n",
    "    \n",
    "    # initialization\n",
    "    id = np.where(vocabulary == observation[0]) # get the index of the first observation in the vocabulary\n",
    "\n",
    "    alpha[: , 0] = initial_distribution * emission_prob[:, id[0][0]]\n",
    "\n",
    "    # recursion\n",
    "    for i in range(1, T):\n",
    "        id = np.where(vocabulary == observation[i])\n",
    "        for j in range(N):\n",
    "            alpha[j, i] = alpha[:, i - 1].dot(transition_prob[:, j]) * emission_prob[j, id[0][0]]\n",
    "\n",
    "    # termination\n",
    "    forward_prob = np.sum(alpha[:, T - 1])\n",
    "    return (forward_prob, alpha)\n",
    "\n",
    "\n",
    "obs = np.array((3, 1, 3))\n",
    "trans = np.array([[.5, .5], [.4, .6]])\n",
    "ems = np.array([[.5, .4, .1], [.2, .4, .4]])\n",
    "ini = np.array((.2, .8))\n",
    "vcb = np.array((1, 2, 3))\n",
    "\n",
    "fp, alpha = forward_algorithm(obs, trans, ems, ini, vcb)\n",
    "print(fp)\n",
    "print(alpha)"
   ]
  },
  {
   "cell_type": "markdown",
   "metadata": {},
   "source": [
    "## 1.2. Thuật toán Viterbi"
   ]
  },
  {
   "cell_type": "markdown",
   "metadata": {},
   "source": [
    "[https://github.com/adeveloperdiary/HiddenMarkovModel/blob/master/part4/Viterbi.py](https://github.com/adeveloperdiary/HiddenMarkovModel/blob/master/part4/Viterbi.py)"
   ]
  },
  {
   "cell_type": "code",
   "execution_count": 301,
   "metadata": {},
   "outputs": [
    {
     "name": "stdout",
     "output_type": "stream",
     "text": [
      "[1 0 1]\n"
     ]
    }
   ],
   "source": [
    "'''Viterbi algorithm:\n",
    "Given an HMM with:\n",
    "transition probability table A and emission probability table (observation ikelihood) B \n",
    "a sequence of observations O\n",
    "find the most sequence of states Q\n",
    "'''\n",
    "def viterbi_algorithm(observation, transition_prob, emission_prob, initial_distribution, vocabulary):\n",
    "    T = observation.shape[0]\n",
    "    N = transition_prob.shape[0]\n",
    "    omega = np.zeros((N, T))\n",
    "    \n",
    "    # initialization\n",
    "    id = np.where(vocabulary == observation[0])\n",
    "    \n",
    "    omega[:, 0] = initial_distribution * emission_prob[:, id[0][0]] # initialize the same as the forward algorithm\n",
    "\n",
    "    prev = np.zeros((N, T))\n",
    "    prev[:, 0] = 0\n",
    "\n",
    "    temp = np.zeros(N)\n",
    "\n",
    "    # recursion\n",
    "    for i in range(1, T):\n",
    "        # find the index of the observation in the vocabulary\n",
    "        id = np.where(vocabulary == observation[i])\n",
    "        for j in range(N):    \n",
    "            # the same as forward probability\n",
    "            for k in range(N):\n",
    "                temp[k] = omega[k, i - 1] * transition_prob[k, j] * emission_prob[j, id[0][0]]\n",
    "                \n",
    "            # the most probable state given previous state at time i    (1)\n",
    "            prev[j, i] = np.argmax(temp)\n",
    "\n",
    "            # the probability of the most probable state                (2)\n",
    "            omega[j, i] = np.max(temp)\n",
    "\n",
    "    # print(omega)\n",
    "\n",
    "    # termination\n",
    "    best_path_prob = np.max(omega[:, T - 1])\n",
    "\n",
    "    # path array: the most probable sequence of states for the observations sequence.\n",
    "    path = np.zeros(T, dtype= int)\n",
    "\n",
    "    # the most probable state at the last time step\n",
    "    path[T - 1] = int(np.argmax(omega[:, T - 1]))\n",
    "\n",
    "    # backtracking\n",
    "    for i in range(T - 2, -1, -1):\n",
    "        path[i] = int(prev[path[i + 1], i + 1])\n",
    "\n",
    "    return (path)\n",
    "\n",
    "print(viterbi_algorithm(obs, trans, ems, ini, vcb))"
   ]
  },
  {
   "cell_type": "markdown",
   "metadata": {},
   "source": [
    "## 1.3. Thuật toán Baum - Welch"
   ]
  },
  {
   "cell_type": "code",
   "execution_count": 302,
   "metadata": {},
   "outputs": [
    {
     "name": "stdout",
     "output_type": "stream",
     "text": [
      "0.028562000000000008\n",
      "[[0.0905 0.25   1.    ]\n",
      " [0.0836 0.28   1.    ]]\n"
     ]
    }
   ],
   "source": [
    "# backward probability\n",
    "def backward_algorithm(observation, transition_prob, emission_prob, initial_distribution, vocabulary):\n",
    "    # initialization\n",
    "    T = observation.shape[0]\n",
    "    N = transition_prob.shape[0]\n",
    "    beta = np.zeros((N, T))\n",
    "\n",
    "    # initialization\n",
    "    for i in range(N):\n",
    "        beta[i, T - 1] = 1\n",
    "    \n",
    "    # recursion\n",
    "    for t in range(T - 2, -1, -1):\n",
    "        for i in range(N):\n",
    "            # find the index of the (t + 1)-th observation\n",
    "            id = np.where(vocabulary == observation[t + 1])\n",
    "            beta[i, t] = 0\n",
    "\n",
    "            for j in range(N):\n",
    "                beta[i, t] = beta[i, t] + transition_prob[i, j] * emission_prob[j, id[0][0]] * beta[j, t + 1]\n",
    "    \n",
    "    # termination\n",
    "    id = np.where(vocabulary == observation[0])\n",
    "\n",
    "    backward_prob = 0\n",
    "    for k in range(N):\n",
    "        backward_prob = backward_prob + initial_distribution[k] * emission_prob[k, id[0][0]] * beta[k, 0]\n",
    "    \n",
    "    return (backward_prob, beta)\n",
    "\n",
    "bp, beta = backward_algorithm(obs, trans, ems, ini, vcb)\n",
    "print(bp)\n",
    "print(beta)"
   ]
  },
  {
   "cell_type": "code",
   "execution_count": 303,
   "metadata": {},
   "outputs": [
    {
     "name": "stdout",
     "output_type": "stream",
     "text": [
      "[ 78 222]\n"
     ]
    }
   ],
   "source": [
    "arr = np.array(([[1, 2, 3, 4], [5, 6, 7, 8], [9, 10, 11, 12]], [[13, 14, 15, 16], [17, 18, 19, 20], [21, 22, 23, 24]]))\n",
    "print(np.sum(arr, axis=(1,2)))"
   ]
  },
  {
   "cell_type": "code",
   "execution_count": 304,
   "metadata": {},
   "outputs": [],
   "source": [
    "# baum-welch algorithm: from the observation sequence O and the set of possible states in the HMM, learn the HMM parameters A (alpha) and B (beta)\n",
    "def baum_welch_algorithm(observation, initial_distribution, vocabulary, n_iter=1000):\n",
    "    T = observation.shape[0]\n",
    "    N = initial_distribution.shape[0]\n",
    "    K = vocabulary.shape[0]\n",
    "\n",
    "    # initialize A and B\n",
    "    A = np.random.rand(N, N)\n",
    "    A = A/np.sum(A, axis=1).reshape((-1, 1))\n",
    "    print(A)\n",
    "    B = np.random.rand(N, K)\n",
    "    B = B/np.sum(B, axis=1).reshape((-1, 1))\n",
    "    print(B)\n",
    "    \n",
    "    gamma = np.zeros((N, T))\n",
    "    xi = np.zeros((N, N, T - 1))\n",
    "\n",
    "    for n in range(n_iter):\n",
    "        (f_pr, alpha) = forward_algorithm(observation, A, B, initial_distribution, vocabulary)\n",
    "        (b_pr, beta) = backward_algorithm(observation, A, B, initial_distribution, vocabulary)\n",
    "        \n",
    "        # E - step\n",
    "        for t in range(T - 1):\n",
    "            id = np.where(vocabulary == observation[t + 1])\n",
    "            index = id[0][0]\n",
    "            \n",
    "            den = np.dot(alpha[:, t], beta[:, t])\n",
    "            gamma[:, t] = alpha[:, t] * beta[:, t]/den\n",
    "            \n",
    "            for i in range (N):\n",
    "                for j in range(N):\n",
    "                    xi[i, j, t] = alpha[i, t] * beta[j, t + 1] * A[i, j] * B[j, index]/den\n",
    "        \n",
    "        # M - step\n",
    "        for i in range(N):\n",
    "            a_den = 0\n",
    "            for t in range(T - 1):    \n",
    "                for k in range(N):\n",
    "                    a_den = a_den + xi[i, k, t]\n",
    "            \n",
    "            A = np.sum(xi, axis=2)/np.sum(xi, axis=(1,2)).reshape((-1, 1))\n",
    "        \n",
    "        for v in range(K):\n",
    "            B[:, v] = np.sum(gamma[:, observation == vocabulary[v]], axis=1)\n",
    "        \n",
    "        B = B/np.sum(gamma, axis=1).reshape((-1, 1))\n",
    "\n",
    "    return (A, B)"
   ]
  },
  {
   "cell_type": "markdown",
   "metadata": {},
   "source": [
    "# 2. Bài toán: \n",
    "Khi làm quản trò, anh Huy thường sử dụng 2 viên xúc xác khác nhau. Viên đầu tiên là một viên xúc xắc cân bằng, mọi mặt đều có cùng xác suất. Viên thứ hai là một viên xúc xắc lỗi, khi tung sẽ có 50% xác suất ra mặt số 6 và 10% xác suất ra mỗi mặt còn lại. Mỗi lần tung, anh sẽ chọn 1 trong 2 viên xúc xắc này để tung. Người chơi không thể biết anh đã tung viên nào, chỉ biết được lần tung đó ra mặt nào. Ngoài ra, nếu ở lần tung này, anh Huy sử dụng viên xúc xắc cân bằng, thì có 80% khả năng anh sẽ tiếp tục sử dụng viên xúc xắc này cho lần tung tiếp theo (20% còn lại anh sẽ đổi sang dùng viên lỗi). Con số này là 30% đối với viên lỗi (70% đổi sang dùng viên cân bằng)"
   ]
  },
  {
   "cell_type": "markdown",
   "metadata": {},
   "source": [
    "## a) Mô hình hóa tình huống trên bằng một mô hình Markov ẩn. Cho biết các tham số của mô hình này.\n",
    "Mô hình Markov ẩn được xây dựng:\n",
    "- Tập trạng thái `Q = {q0: cân bằng, q1: lỗi}`.\n",
    "- Ma trận chuyển trạng thái `A = [[0.8, 0.2], [0.7, 0.3]]` (theo thứ tự `a00, a01, a10, a11`).\n",
    "- Tập quan sát O gồm các trạng thái được lấy từ tập `V = {1, 2, 3, 4, 5, 6}`.\n",
    "- Ma trận B (các giá trị observation likelihoods): \n",
    "`B = [[P(1|q0) = 1/6, P(2|q0) = 1/6, P(3|q0) = 1/6, P(4|q0) = 1/6, P(5|q0) = 1/6, P(6|q0) = 1/6],\n",
    " [P(1|q1) = 0.1, P(2|q1) = 0.1, P(3|q1) = 0.1, P(4|q1) = 0.1, P(5|q1) = 0.1, P(6|q1) = 0.5]]`\n",
    "- Phân phối ban đầu `Pi = [0.5, 0.5]`"
   ]
  },
  {
   "cell_type": "markdown",
   "metadata": {},
   "source": [
    "## b) Sinh ngẫu nhiên một chuỗi T = 100 lần tung theo đúng mô tả trên."
   ]
  },
  {
   "cell_type": "code",
   "execution_count": 305,
   "metadata": {},
   "outputs": [
    {
     "name": "stdout",
     "output_type": "stream",
     "text": [
      "Observation sequence:  [1 3 3 4 5 4 4 2 2 1 5 3 6 6 3 2 3 5 3 3 4 5 1 6 4 4 3 1 5 1 4 2 5 5 2 2 6\n",
      " 4 4 6 5 2 4 5 6 4 2 4 5 3 1 5 6 2 2 2 5 1 6 2 2 6 1 1 6 6 3 6 1 3 5 6 2 4\n",
      " 5 3 4 5 2 1 5 2 2 5 6 3 5 2 5 6 1 6 3 2 6 1 2 4 3 3]\n"
     ]
    }
   ],
   "source": [
    "'A is the transition probability matrix'\n",
    "A = [[0.8, 0.2], [0.7, 0.3]]\n",
    "\n",
    "'B is the observation likelihoods matrix'\n",
    "B = [[1/6, 1/6, 1/6, 1/6, 1/6, 1/6],[.1, .1, .1, .1, .1, .5]]\n",
    "\n",
    "'D is the number on the faces of the dice'\n",
    "D = [1,2,3,4,5,6]\n",
    "\n",
    "'initial distribution'\n",
    "Pi = np.array((0.5, 0.5))\n",
    "\n",
    "def generate(T: int):\n",
    "    dice = rd.choice([0,1])     # choose a random dice with equal probability 0.5\n",
    "    res = list()                # list of observations\n",
    "    dices = list()              # hidden states\n",
    "    for i in range(0, T):\n",
    "        dices.append(dice)\n",
    "        temp1 = rd.choices(D, B[dice])\n",
    "        res.append(temp1[0])\n",
    "        temp2 = rd.choices([0,1], A[dice])\n",
    "        dice = temp2[0]\n",
    "    # print('Hidden states: ', dices)\n",
    "    return res\n",
    "\n",
    "'Generate a sequence of T = 100 observations'\n",
    "obs = np.array(generate(100))   # observation seq.\n",
    "trans = np.array(A)  # transition prob.\n",
    "emiss = np.array(B)  # emission prob.\n",
    "vocab = np.array(D)  # vocabulary\n",
    "print('Observation sequence: ', obs)"
   ]
  },
  {
   "cell_type": "markdown",
   "metadata": {},
   "source": [
    "## c) Sử dụng thuật toán Viterbi để dự đoán viên xúc xắc được dùng cho mỗi lần tung. Độ chính xác của dự đoán này là bao nhiêu? Hãy lặp lại thí nghiệm này nhiều lần nếu cần thiết. Báo cáo và nhận xét kết quả thu được."
   ]
  },
  {
   "cell_type": "code",
   "execution_count": 306,
   "metadata": {},
   "outputs": [
    {
     "name": "stdout",
     "output_type": "stream",
     "text": [
      "[0 0 0 0 0 0 0 0 0 0 0 0 0 0 0 0 0 0 0 0 0 0 0 0 0 0 0 0 0 0 0 0 0 0 0 0 0\n",
      " 0 0 0 0 0 0 0 0 0 0 0 0 0 0 0 0 0 0 0 0 0 0 0 0 0 0 0 0 0 0 0 0 0 0 0 0 0\n",
      " 0 0 0 0 0 0 0 0 0 0 0 0 0 0 0 0 0 0 0 0 0 0 0 0 0 0]\n"
     ]
    }
   ],
   "source": [
    "state_guess = viterbi_algorithm(obs, trans, emiss, Pi, vocab)\n",
    "print(state_guess)"
   ]
  },
  {
   "cell_type": "markdown",
   "metadata": {},
   "source": [
    "## d) Giả sử bạn là một người chơi, hãy sử dụng thuật toán Baum-Welch để ước lượng các tham số cho mô hình Markov ẩn. Hãy lặp lại thí nghiệm nhiều lần nếu cần thiết. Báo cáo và nhận xét kết quả thu được."
   ]
  },
  {
   "cell_type": "code",
   "execution_count": 307,
   "metadata": {},
   "outputs": [
    {
     "name": "stdout",
     "output_type": "stream",
     "text": [
      "[[0.22971623 0.77028377]\n",
      " [0.3280566  0.6719434 ]]\n",
      "[[0.31454045 0.00476626 0.01635092 0.16649008 0.25156478 0.24628751]\n",
      " [0.05730811 0.21612926 0.29150071 0.23765917 0.14728706 0.05011569]]\n",
      "alpha =  [[0.65750171 0.34249829]\n",
      " [0.36374361 0.63625639]]\n",
      "beta =  [[2.54956605e-01 4.43997863e-30 2.94180698e-01 5.26672704e-57\n",
      "  1.75202831e-01 2.75659866e-01]\n",
      " [3.88177842e-25 4.16571804e-01 4.54184960e-19 3.12428853e-01\n",
      "  2.09672476e-01 6.13268670e-02]]\n"
     ]
    }
   ],
   "source": [
    "alpha, beta = baum_welch_algorithm(obs, Pi, vocab)\n",
    "print('alpha = ', alpha)\n",
    "print('beta = ', beta)"
   ]
  }
 ],
 "metadata": {
  "interpreter": {
   "hash": "5ae58900cfbb8c43ab3495913814b7cf26024f51651a94ce8bf64d6111688e8d"
  },
  "kernelspec": {
   "display_name": "Python 3.9.7 ('base')",
   "language": "python",
   "name": "python3"
  },
  "language_info": {
   "codemirror_mode": {
    "name": "ipython",
    "version": 3
   },
   "file_extension": ".py",
   "mimetype": "text/x-python",
   "name": "python",
   "nbconvert_exporter": "python",
   "pygments_lexer": "ipython3",
   "version": "3.9.7"
  },
  "orig_nbformat": 4
 },
 "nbformat": 4,
 "nbformat_minor": 2
}
