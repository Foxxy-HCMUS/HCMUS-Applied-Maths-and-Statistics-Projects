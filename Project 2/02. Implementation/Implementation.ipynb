{
 "cells": [
  {
   "cell_type": "markdown",
   "metadata": {},
   "source": [
    "# 1. Cài đặt thuật toán tiến trước, thuật toán Viterbi, và thuật toán Baum-Welch."
   ]
  },
  {
   "cell_type": "code",
   "execution_count": 4,
   "metadata": {},
   "outputs": [],
   "source": [
    "import numpy as np\n",
    "import pandas as pd"
   ]
  },
  {
   "cell_type": "markdown",
   "metadata": {},
   "source": [
    "## 1. Thuật toán tiến trước"
   ]
  },
  {
   "cell_type": "markdown",
   "metadata": {},
   "source": [
    "[https://github.com/adeveloperdiary/HiddenMarkovModel/blob/master/part2/forward.py](https://github.com/adeveloperdiary/HiddenMarkovModel/blob/master/part2/forward.py)"
   ]
  },
  {
   "cell_type": "code",
   "execution_count": 28,
   "metadata": {},
   "outputs": [],
   "source": [
    "def forward_algorithm(observation, transition_prob, emission_prob, initial_distribution):\n",
    "    prob = np.zeros((observation.shape[0], transition_prob.shape[0]))\n",
    "\n",
    "    prob[0, :] = initial_distribution * emission_prob[:, observation[0]]\n",
    "\n",
    "    for i in range(1, observation.shape[0]):\n",
    "        for j in range(transition_prob.shape[0]):\n",
    "            prob[i, j] = prob[i - 1].dot(transition_prob[:, j]) * emission_prob[j, observation[i]]\n",
    "\n",
    "    return prob"
   ]
  },
  {
   "cell_type": "code",
   "execution_count": 29,
   "metadata": {},
   "outputs": [],
   "source": [
    "data = pd.read_csv('data.csv')\n",
    "obs= data['Visible'].values\n",
    "\n",
    "trans_prob = np.array(((0.54, 0.46), (0.49, 0.51)))\n",
    "\n",
    "emis_prob = np.array(((0.16, 0.26, 0.58), (0.25, 0.28, 0.47)))\n",
    "\n",
    "init_dist = np.array((0.5, 0.5))\n",
    "\n",
    "result = forward_algorithm(obs, trans_prob, emis_prob, init_dist)\n",
    "\n",
    "f = open(\"forward_result.txt\", \"w\")\n",
    "for row in result:\n",
    "    np.savetxt(f, row)\n",
    "f.close()\n"
   ]
  }
 ],
 "metadata": {
  "interpreter": {
   "hash": "2e918aaa81d99c652401bdd1a0c185581595fb477ac919641bd65261b5d7782a"
  },
  "kernelspec": {
   "display_name": "Python 3.9.7 ('base')",
   "language": "python",
   "name": "python3"
  },
  "language_info": {
   "codemirror_mode": {
    "name": "ipython",
    "version": 3
   },
   "file_extension": ".py",
   "mimetype": "text/x-python",
   "name": "python",
   "nbconvert_exporter": "python",
   "pygments_lexer": "ipython3",
   "version": "3.9.7"
  },
  "orig_nbformat": 4
 },
 "nbformat": 4,
 "nbformat_minor": 2
}
